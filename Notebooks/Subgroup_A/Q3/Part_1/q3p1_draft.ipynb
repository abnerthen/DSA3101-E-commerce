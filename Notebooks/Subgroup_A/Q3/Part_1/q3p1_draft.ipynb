{
 "cells": [
  {
   "cell_type": "markdown",
   "metadata": {
    "colab_type": "text",
    "id": "view-in-github"
   },
   "source": [
    "<a href=\"https://colab.research.google.com/github/MhT-an/DSA3101-E-commerce-SubGroup-A/blob/main/Question_3_Part_1.ipynb\" target=\"_parent\"><img src=\"https://colab.research.google.com/assets/colab-badge.svg\" alt=\"Open In Colab\"/></a>"
   ]
  },
  {
   "cell_type": "markdown",
   "metadata": {
    "id": "oencU2MFXcxT"
   },
   "source": [
    "**Question 3(i):  Evaluate the ROI of different marketing channels**"
   ]
  },
  {
   "cell_type": "markdown",
   "metadata": {
    "id": "7YGvs1FBIgkH"
   },
   "source": [
    "# **0. Import necessary package & Set up query environment**"
   ]
  },
  {
   "cell_type": "code",
   "execution_count": null,
   "metadata": {
    "id": "64Do8pnGFuLI"
   },
   "outputs": [],
   "source": [
    "# Import necessary libraries\n",
    "import pandas as pd\n",
    "import seaborn as sns\n",
    "import matplotlib.pyplot as plt\n",
    "import numpy as np\n",
    "import os"
   ]
  },
  {
   "cell_type": "markdown",
   "metadata": {
    "id": "xnegDTZdIzPj"
   },
   "source": [
    "# **1. Data Query and Cleaning**"
   ]
  },
  {
   "cell_type": "markdown",
   "metadata": {
    "id": "TjK_iRMEV1sZ"
   },
   "source": [
    "### (a) Reading in Data"
   ]
  },
  {
   "cell_type": "markdown",
   "metadata": {},
   "source": [
    "Data querying & cleaning already performed in `subgrp_a_q3_data.py`. This is because we do not want to leave the private keys to query Google Cloud in our notebook."
   ]
  },
  {
   "cell_type": "code",
   "execution_count": 3,
   "metadata": {
    "colab": {
     "base_uri": "https://localhost:8080/",
     "height": 423
    },
    "id": "xWzQ9834Fpkl",
    "outputId": "684c58a4-d15b-474e-f76d-0fc28e1a3d6b"
   },
   "outputs": [],
   "source": [
    "result = pd.read_parquet('marketing_channel_metrics.parquet')"
   ]
  },
  {
   "cell_type": "code",
   "execution_count": 4,
   "metadata": {},
   "outputs": [
    {
     "data": {
      "text/html": [
       "<div>\n",
       "<style scoped>\n",
       "    .dataframe tbody tr th:only-of-type {\n",
       "        vertical-align: middle;\n",
       "    }\n",
       "\n",
       "    .dataframe tbody tr th {\n",
       "        vertical-align: top;\n",
       "    }\n",
       "\n",
       "    .dataframe thead th {\n",
       "        text-align: right;\n",
       "    }\n",
       "</style>\n",
       "<table border=\"1\" class=\"dataframe\">\n",
       "  <thead>\n",
       "    <tr style=\"text-align: right;\">\n",
       "      <th></th>\n",
       "      <th>channel</th>\n",
       "      <th>total_users</th>\n",
       "      <th>total_sessions</th>\n",
       "      <th>total_transactions</th>\n",
       "      <th>total_revenue</th>\n",
       "      <th>main_category</th>\n",
       "      <th>sub_category</th>\n",
       "      <th>subsub_category</th>\n",
       "    </tr>\n",
       "  </thead>\n",
       "  <tbody>\n",
       "    <tr>\n",
       "      <th>0</th>\n",
       "      <td>(none)</td>\n",
       "      <td>6372</td>\n",
       "      <td>81848</td>\n",
       "      <td>4618</td>\n",
       "      <td>376396.678371</td>\n",
       "      <td>Apparel</td>\n",
       "      <td>Other</td>\n",
       "      <td>Other</td>\n",
       "    </tr>\n",
       "    <tr>\n",
       "      <th>1</th>\n",
       "      <td>(none)</td>\n",
       "      <td>59120</td>\n",
       "      <td>575967</td>\n",
       "      <td>1683</td>\n",
       "      <td>245517.599048</td>\n",
       "      <td>Unavailable</td>\n",
       "      <td>Other</td>\n",
       "      <td>Other</td>\n",
       "    </tr>\n",
       "    <tr>\n",
       "      <th>2</th>\n",
       "      <td>(none)</td>\n",
       "      <td>2797</td>\n",
       "      <td>32997</td>\n",
       "      <td>2030</td>\n",
       "      <td>202476.692998</td>\n",
       "      <td>Office</td>\n",
       "      <td>Other</td>\n",
       "      <td>Other</td>\n",
       "    </tr>\n",
       "    <tr>\n",
       "      <th>3</th>\n",
       "      <td>(none)</td>\n",
       "      <td>2170</td>\n",
       "      <td>18687</td>\n",
       "      <td>1617</td>\n",
       "      <td>140781.674575</td>\n",
       "      <td>Accessories</td>\n",
       "      <td>Drinkware</td>\n",
       "      <td>Other</td>\n",
       "    </tr>\n",
       "    <tr>\n",
       "      <th>4</th>\n",
       "      <td>(none)</td>\n",
       "      <td>1228</td>\n",
       "      <td>9626</td>\n",
       "      <td>901</td>\n",
       "      <td>100218.269407</td>\n",
       "      <td>Bags</td>\n",
       "      <td>Other</td>\n",
       "      <td>Other</td>\n",
       "    </tr>\n",
       "    <tr>\n",
       "      <th>...</th>\n",
       "      <td>...</td>\n",
       "      <td>...</td>\n",
       "      <td>...</td>\n",
       "      <td>...</td>\n",
       "      <td>...</td>\n",
       "      <td>...</td>\n",
       "      <td>...</td>\n",
       "      <td>...</td>\n",
       "    </tr>\n",
       "    <tr>\n",
       "      <th>547</th>\n",
       "      <td>cpm</td>\n",
       "      <td>43</td>\n",
       "      <td>1558</td>\n",
       "      <td>0</td>\n",
       "      <td>0.000000</td>\n",
       "      <td>Accessories</td>\n",
       "      <td>Drinkware</td>\n",
       "      <td>Other</td>\n",
       "    </tr>\n",
       "    <tr>\n",
       "      <th>548</th>\n",
       "      <td>referral</td>\n",
       "      <td>12</td>\n",
       "      <td>262</td>\n",
       "      <td>0</td>\n",
       "      <td>0.000000</td>\n",
       "      <td>Accessories</td>\n",
       "      <td>Fun</td>\n",
       "      <td>Other</td>\n",
       "    </tr>\n",
       "    <tr>\n",
       "      <th>549</th>\n",
       "      <td>affiliate</td>\n",
       "      <td>1</td>\n",
       "      <td>14</td>\n",
       "      <td>0</td>\n",
       "      <td>0.000000</td>\n",
       "      <td>Limited Supply</td>\n",
       "      <td>Other</td>\n",
       "      <td>Other</td>\n",
       "    </tr>\n",
       "    <tr>\n",
       "      <th>550</th>\n",
       "      <td>(not set)</td>\n",
       "      <td>3</td>\n",
       "      <td>36</td>\n",
       "      <td>0</td>\n",
       "      <td>0.000000</td>\n",
       "      <td>Accessories</td>\n",
       "      <td>Drinkware</td>\n",
       "      <td>Water Bottles and Tumblers</td>\n",
       "    </tr>\n",
       "    <tr>\n",
       "      <th>551</th>\n",
       "      <td>affiliate</td>\n",
       "      <td>1</td>\n",
       "      <td>14</td>\n",
       "      <td>0</td>\n",
       "      <td>0.000000</td>\n",
       "      <td>Accessories</td>\n",
       "      <td>Fun</td>\n",
       "      <td>Other</td>\n",
       "    </tr>\n",
       "  </tbody>\n",
       "</table>\n",
       "<p>552 rows × 8 columns</p>\n",
       "</div>"
      ],
      "text/plain": [
       "       channel  total_users  total_sessions  total_transactions  \\\n",
       "0       (none)         6372           81848                4618   \n",
       "1       (none)        59120          575967                1683   \n",
       "2       (none)         2797           32997                2030   \n",
       "3       (none)         2170           18687                1617   \n",
       "4       (none)         1228            9626                 901   \n",
       "..         ...          ...             ...                 ...   \n",
       "547        cpm           43            1558                   0   \n",
       "548   referral           12             262                   0   \n",
       "549  affiliate            1              14                   0   \n",
       "550  (not set)            3              36                   0   \n",
       "551  affiliate            1              14                   0   \n",
       "\n",
       "     total_revenue   main_category sub_category             subsub_category  \n",
       "0    376396.678371         Apparel        Other                       Other  \n",
       "1    245517.599048     Unavailable        Other                       Other  \n",
       "2    202476.692998          Office        Other                       Other  \n",
       "3    140781.674575     Accessories    Drinkware                       Other  \n",
       "4    100218.269407            Bags        Other                       Other  \n",
       "..             ...             ...          ...                         ...  \n",
       "547       0.000000     Accessories    Drinkware                       Other  \n",
       "548       0.000000     Accessories          Fun                       Other  \n",
       "549       0.000000  Limited Supply        Other                       Other  \n",
       "550       0.000000     Accessories    Drinkware  Water Bottles and Tumblers  \n",
       "551       0.000000     Accessories          Fun                       Other  \n",
       "\n",
       "[552 rows x 8 columns]"
      ]
     },
     "execution_count": 4,
     "metadata": {},
     "output_type": "execute_result"
    }
   ],
   "source": [
    "result"
   ]
  },
  {
   "cell_type": "code",
   "execution_count": 5,
   "metadata": {},
   "outputs": [
    {
     "data": {
      "text/plain": [
       "1742046.9741900002"
      ]
     },
     "execution_count": 5,
     "metadata": {},
     "output_type": "execute_result"
    }
   ],
   "source": [
    "result['total_revenue'].sum()"
   ]
  },
  {
   "cell_type": "markdown",
   "metadata": {
    "id": "R11ZRZLPXtGe"
   },
   "source": [
    "# **2. Calculate cost of different marketing channels**"
   ]
  },
  {
   "cell_type": "markdown",
   "metadata": {
    "id": "kM_NlWuCIb5m"
   },
   "source": [
    "**We note that there are 5 unique channels. Here's how we split the work:**\n",
    "\n",
    "- Organic (Abner)\n",
    "- cpc (Ervin)\n",
    "- cpm (Greg)\n",
    "- Referral (JQ)\n",
    "- Affiliate (MH)"
   ]
  },
  {
   "cell_type": "markdown",
   "metadata": {
    "id": "_38Zej2iXykX"
   },
   "source": [
    "## (a) Organic (Abner)"
   ]
  },
  {
   "cell_type": "markdown",
   "metadata": {
    "id": "vL9OsfYKl15w"
   },
   "source": [
    "### (i) Obtain necessary data"
   ]
  },
  {
   "cell_type": "code",
   "execution_count": 89,
   "metadata": {
    "id": "vVdE_RRsVMb8"
   },
   "outputs": [],
   "source": [
    "result_organic = (\n",
    "    result[result['channel'] == 'organic']  # Filter for organic channel\n",
    "    .groupby('main_category')  # Group by main_category\n",
    "    .agg({\n",
    "        'total_users': 'sum',\n",
    "        'total_sessions': 'sum',\n",
    "        'total_transactions': 'sum',\n",
    "        'total_revenue': 'sum'\n",
    "    })  # Aggregate sums\n",
    "    .reset_index()  # Reset the index to get a DataFrame\n",
    ")"
   ]
  },
  {
   "cell_type": "code",
   "execution_count": 90,
   "metadata": {
    "colab": {
     "base_uri": "https://localhost:8080/",
     "height": 425
    },
    "id": "kLSTsfjkbsD2",
    "outputId": "fcda4e10-5708-43fb-9693-69af3a1938e0"
   },
   "outputs": [
    {
     "data": {
      "text/html": [
       "<div>\n",
       "<style scoped>\n",
       "    .dataframe tbody tr th:only-of-type {\n",
       "        vertical-align: middle;\n",
       "    }\n",
       "\n",
       "    .dataframe tbody tr th {\n",
       "        vertical-align: top;\n",
       "    }\n",
       "\n",
       "    .dataframe thead th {\n",
       "        text-align: right;\n",
       "    }\n",
       "</style>\n",
       "<table border=\"1\" class=\"dataframe\">\n",
       "  <thead>\n",
       "    <tr style=\"text-align: right;\">\n",
       "      <th></th>\n",
       "      <th>main_category</th>\n",
       "      <th>total_users</th>\n",
       "      <th>total_sessions</th>\n",
       "      <th>total_transactions</th>\n",
       "      <th>total_revenue</th>\n",
       "    </tr>\n",
       "  </thead>\n",
       "  <tbody>\n",
       "    <tr>\n",
       "      <th>0</th>\n",
       "      <td></td>\n",
       "      <td>3</td>\n",
       "      <td>54</td>\n",
       "      <td>0</td>\n",
       "      <td>0.000000</td>\n",
       "    </tr>\n",
       "    <tr>\n",
       "      <th>1</th>\n",
       "      <td>Accessories</td>\n",
       "      <td>52602</td>\n",
       "      <td>761471</td>\n",
       "      <td>412</td>\n",
       "      <td>20382.654392</td>\n",
       "    </tr>\n",
       "    <tr>\n",
       "      <th>2</th>\n",
       "      <td>Apparel</td>\n",
       "      <td>87423</td>\n",
       "      <td>2179392</td>\n",
       "      <td>1090</td>\n",
       "      <td>63582.380265</td>\n",
       "    </tr>\n",
       "    <tr>\n",
       "      <th>3</th>\n",
       "      <td>Bags</td>\n",
       "      <td>24972</td>\n",
       "      <td>345190</td>\n",
       "      <td>188</td>\n",
       "      <td>14168.326001</td>\n",
       "    </tr>\n",
       "    <tr>\n",
       "      <th>4</th>\n",
       "      <td>Brands</td>\n",
       "      <td>60714</td>\n",
       "      <td>1305418</td>\n",
       "      <td>41</td>\n",
       "      <td>2418.324115</td>\n",
       "    </tr>\n",
       "    <tr>\n",
       "      <th>5</th>\n",
       "      <td>Electronics</td>\n",
       "      <td>26422</td>\n",
       "      <td>455774</td>\n",
       "      <td>161</td>\n",
       "      <td>13942.955796</td>\n",
       "    </tr>\n",
       "    <tr>\n",
       "      <th>6</th>\n",
       "      <td>Gift Cards</td>\n",
       "      <td>772</td>\n",
       "      <td>4564</td>\n",
       "      <td>8</td>\n",
       "      <td>568.000000</td>\n",
       "    </tr>\n",
       "    <tr>\n",
       "      <th>7</th>\n",
       "      <td>Kids</td>\n",
       "      <td>75</td>\n",
       "      <td>3020</td>\n",
       "      <td>0</td>\n",
       "      <td>0.000000</td>\n",
       "    </tr>\n",
       "    <tr>\n",
       "      <th>8</th>\n",
       "      <td>Lifestyle</td>\n",
       "      <td>5175</td>\n",
       "      <td>190165</td>\n",
       "      <td>212</td>\n",
       "      <td>7460.538610</td>\n",
       "    </tr>\n",
       "    <tr>\n",
       "      <th>9</th>\n",
       "      <td>Limited Supply</td>\n",
       "      <td>2094</td>\n",
       "      <td>47303</td>\n",
       "      <td>0</td>\n",
       "      <td>0.000000</td>\n",
       "    </tr>\n",
       "    <tr>\n",
       "      <th>10</th>\n",
       "      <td>Office</td>\n",
       "      <td>22122</td>\n",
       "      <td>553492</td>\n",
       "      <td>586</td>\n",
       "      <td>31978.609211</td>\n",
       "    </tr>\n",
       "    <tr>\n",
       "      <th>11</th>\n",
       "      <td>Sale</td>\n",
       "      <td>341</td>\n",
       "      <td>6183</td>\n",
       "      <td>0</td>\n",
       "      <td>0.000000</td>\n",
       "    </tr>\n",
       "    <tr>\n",
       "      <th>12</th>\n",
       "      <td>Unavailable</td>\n",
       "      <td>43962</td>\n",
       "      <td>327829</td>\n",
       "      <td>599</td>\n",
       "      <td>70577.800503</td>\n",
       "    </tr>\n",
       "  </tbody>\n",
       "</table>\n",
       "</div>"
      ],
      "text/plain": [
       "     main_category  total_users  total_sessions  total_transactions  \\\n",
       "0                             3              54                   0   \n",
       "1      Accessories        52602          761471                 412   \n",
       "2          Apparel        87423         2179392                1090   \n",
       "3             Bags        24972          345190                 188   \n",
       "4           Brands        60714         1305418                  41   \n",
       "5      Electronics        26422          455774                 161   \n",
       "6       Gift Cards          772            4564                   8   \n",
       "7             Kids           75            3020                   0   \n",
       "8        Lifestyle         5175          190165                 212   \n",
       "9   Limited Supply         2094           47303                   0   \n",
       "10          Office        22122          553492                 586   \n",
       "11            Sale          341            6183                   0   \n",
       "12     Unavailable        43962          327829                 599   \n",
       "\n",
       "    total_revenue  \n",
       "0        0.000000  \n",
       "1    20382.654392  \n",
       "2    63582.380265  \n",
       "3    14168.326001  \n",
       "4     2418.324115  \n",
       "5    13942.955796  \n",
       "6      568.000000  \n",
       "7        0.000000  \n",
       "8     7460.538610  \n",
       "9        0.000000  \n",
       "10   31978.609211  \n",
       "11       0.000000  \n",
       "12   70577.800503  "
      ]
     },
     "execution_count": 90,
     "metadata": {},
     "output_type": "execute_result"
    }
   ],
   "source": [
    "result_organic"
   ]
  },
  {
   "cell_type": "markdown",
   "metadata": {
    "id": "_JKJRNxol3PV"
   },
   "source": [
    "### (ii) Analysis"
   ]
  },
  {
   "cell_type": "markdown",
   "metadata": {},
   "source": [
    "Some assumptions made for this marketing channel are as follows:\n",
    " - SEO tools (including email campaigns) to boost exposure costs $3,000 a month.\n",
    " - The business sets aside $3,000 each month for social media campaigns.\n",
    " - Assume that the social media team has 5 members.\n",
    " - Assume that performance tracking costs $1,000 a month (for example, using Google Analytics)"
   ]
  },
  {
   "cell_type": "code",
   "execution_count": 138,
   "metadata": {
    "colab": {
     "base_uri": "https://localhost:8080/"
    },
    "id": "6LDZThW4l45e",
    "outputId": "9cd466ac-778b-457e-8777-3d56db1edb45"
   },
   "outputs": [
    {
     "name": "stdout",
     "output_type": "stream",
     "text": [
      "Total Organic Cost: $84000.00\n",
      "Total revenue from organic advertising: 225079.58889299998\n",
      "Return on investment: 167.95%\n"
     ]
    }
   ],
   "source": [
    "# assume SEO tools cost 3000 a month\n",
    "organic_cost = 3000 * 12\n",
    "\n",
    "# assume socmed budget is 3000 a month\n",
    "organic_cost += 3000 * 12\n",
    "\n",
    "# assume performance tracking is 1000 a month\n",
    "organic_cost += (1000*12)\n",
    "\n",
    "print(\"Total Organic Cost: ${:.2f}\".format(organic_cost))\n",
    "print(\"Total revenue from organic advertising:\", result_organic['total_revenue'].sum())\n",
    "print(f\"Return on investment: {(result_organic['total_revenue'].sum() - organic_cost) / organic_cost * 100:.2f}%\")"
   ]
  },
  {
   "cell_type": "markdown",
   "metadata": {
    "id": "B-CJfMtzbwBO"
   },
   "source": [
    "## (b) Cost-per-click (CPC) (Ervin)"
   ]
  },
  {
   "cell_type": "markdown",
   "metadata": {
    "id": "YZzCNURNrOXi"
   },
   "source": [
    "CPC refers to the cost an advertiser pays each time an online user clicks on their digital ad. This value is determined by dividing the cost of the marketing campaign by the total number of clicks."
   ]
  },
  {
   "cell_type": "markdown",
   "metadata": {
    "id": "-43kwY7elw19"
   },
   "source": [
    "### (i) Obtain necessary data"
   ]
  },
  {
   "cell_type": "code",
   "execution_count": 113,
   "metadata": {
    "id": "pcK7V7UBb18C"
   },
   "outputs": [],
   "source": [
    "result_cpc = (\n",
    "    result[result['channel'] == 'cpc']  # Filter for cpc channel\n",
    "    .groupby('main_category')  # Group by main_category\n",
    "    .agg({\n",
    "        'total_users': 'sum',\n",
    "        'total_sessions': 'sum',\n",
    "        'total_transactions': 'sum',\n",
    "        'total_revenue': 'sum'\n",
    "    })  # Aggregate sums\n",
    "    .reset_index()  # Reset the index to get a DataFrame\n",
    ")"
   ]
  },
  {
   "cell_type": "code",
   "execution_count": 114,
   "metadata": {
    "colab": {
     "base_uri": "https://localhost:8080/",
     "height": 425
    },
    "id": "R_Ko6cCxcI2i",
    "outputId": "9c68dfc3-e9fe-4b80-d803-902e7c9b3483"
   },
   "outputs": [
    {
     "data": {
      "text/html": [
       "<div>\n",
       "<style scoped>\n",
       "    .dataframe tbody tr th:only-of-type {\n",
       "        vertical-align: middle;\n",
       "    }\n",
       "\n",
       "    .dataframe tbody tr th {\n",
       "        vertical-align: top;\n",
       "    }\n",
       "\n",
       "    .dataframe thead th {\n",
       "        text-align: right;\n",
       "    }\n",
       "</style>\n",
       "<table border=\"1\" class=\"dataframe\">\n",
       "  <thead>\n",
       "    <tr style=\"text-align: right;\">\n",
       "      <th></th>\n",
       "      <th>main_category</th>\n",
       "      <th>total_users</th>\n",
       "      <th>total_sessions</th>\n",
       "      <th>total_transactions</th>\n",
       "      <th>total_revenue</th>\n",
       "    </tr>\n",
       "  </thead>\n",
       "  <tbody>\n",
       "    <tr>\n",
       "      <th>0</th>\n",
       "      <td>Accessories</td>\n",
       "      <td>4003</td>\n",
       "      <td>61020</td>\n",
       "      <td>44</td>\n",
       "      <td>3496.583097</td>\n",
       "    </tr>\n",
       "    <tr>\n",
       "      <th>1</th>\n",
       "      <td>Apparel</td>\n",
       "      <td>6355</td>\n",
       "      <td>171988</td>\n",
       "      <td>137</td>\n",
       "      <td>7817.081659</td>\n",
       "    </tr>\n",
       "    <tr>\n",
       "      <th>2</th>\n",
       "      <td>Bags</td>\n",
       "      <td>1831</td>\n",
       "      <td>27140</td>\n",
       "      <td>32</td>\n",
       "      <td>2736.835137</td>\n",
       "    </tr>\n",
       "    <tr>\n",
       "      <th>3</th>\n",
       "      <td>Brands</td>\n",
       "      <td>1965</td>\n",
       "      <td>60520</td>\n",
       "      <td>2</td>\n",
       "      <td>154.665000</td>\n",
       "    </tr>\n",
       "    <tr>\n",
       "      <th>4</th>\n",
       "      <td>Electronics</td>\n",
       "      <td>2151</td>\n",
       "      <td>38957</td>\n",
       "      <td>21</td>\n",
       "      <td>1894.726340</td>\n",
       "    </tr>\n",
       "    <tr>\n",
       "      <th>5</th>\n",
       "      <td>Gift Cards</td>\n",
       "      <td>47</td>\n",
       "      <td>301</td>\n",
       "      <td>3</td>\n",
       "      <td>417.000000</td>\n",
       "    </tr>\n",
       "    <tr>\n",
       "      <th>6</th>\n",
       "      <td>Kids</td>\n",
       "      <td>6</td>\n",
       "      <td>174</td>\n",
       "      <td>0</td>\n",
       "      <td>0.000000</td>\n",
       "    </tr>\n",
       "    <tr>\n",
       "      <th>7</th>\n",
       "      <td>Lifestyle</td>\n",
       "      <td>399</td>\n",
       "      <td>15696</td>\n",
       "      <td>23</td>\n",
       "      <td>1125.661795</td>\n",
       "    </tr>\n",
       "    <tr>\n",
       "      <th>8</th>\n",
       "      <td>Limited Supply</td>\n",
       "      <td>142</td>\n",
       "      <td>3338</td>\n",
       "      <td>0</td>\n",
       "      <td>0.000000</td>\n",
       "    </tr>\n",
       "    <tr>\n",
       "      <th>9</th>\n",
       "      <td>Office</td>\n",
       "      <td>1837</td>\n",
       "      <td>48586</td>\n",
       "      <td>69</td>\n",
       "      <td>3374.638584</td>\n",
       "    </tr>\n",
       "    <tr>\n",
       "      <th>10</th>\n",
       "      <td>Sale</td>\n",
       "      <td>39</td>\n",
       "      <td>924</td>\n",
       "      <td>0</td>\n",
       "      <td>0.000000</td>\n",
       "    </tr>\n",
       "    <tr>\n",
       "      <th>11</th>\n",
       "      <td>Unavailable</td>\n",
       "      <td>2787</td>\n",
       "      <td>26299</td>\n",
       "      <td>70</td>\n",
       "      <td>6548.738233</td>\n",
       "    </tr>\n",
       "  </tbody>\n",
       "</table>\n",
       "</div>"
      ],
      "text/plain": [
       "     main_category  total_users  total_sessions  total_transactions  \\\n",
       "0      Accessories         4003           61020                  44   \n",
       "1          Apparel         6355          171988                 137   \n",
       "2             Bags         1831           27140                  32   \n",
       "3           Brands         1965           60520                   2   \n",
       "4      Electronics         2151           38957                  21   \n",
       "5       Gift Cards           47             301                   3   \n",
       "6             Kids            6             174                   0   \n",
       "7        Lifestyle          399           15696                  23   \n",
       "8   Limited Supply          142            3338                   0   \n",
       "9           Office         1837           48586                  69   \n",
       "10            Sale           39             924                   0   \n",
       "11     Unavailable         2787           26299                  70   \n",
       "\n",
       "    total_revenue  \n",
       "0     3496.583097  \n",
       "1     7817.081659  \n",
       "2     2736.835137  \n",
       "3      154.665000  \n",
       "4     1894.726340  \n",
       "5      417.000000  \n",
       "6        0.000000  \n",
       "7     1125.661795  \n",
       "8        0.000000  \n",
       "9     3374.638584  \n",
       "10       0.000000  \n",
       "11    6548.738233  "
      ]
     },
     "execution_count": 114,
     "metadata": {},
     "output_type": "execute_result"
    }
   ],
   "source": [
    "result_cpc"
   ]
  },
  {
   "cell_type": "markdown",
   "metadata": {
    "id": "bYaCionZly7h"
   },
   "source": [
    "### (ii) Analysis"
   ]
  },
  {
   "cell_type": "code",
   "execution_count": 115,
   "metadata": {
    "id": "hE9mIxK-l0rZ"
   },
   "outputs": [],
   "source": [
    "# CPC rates for each category based on industry benchmarks (in dollars)\n",
    "# https://sparklaunch.media/google-ads-cpc-benchmarks/\n",
    "# https://www.webapex.com.au/blog/google-ads-cpc-benchmark/\n",
    "\n",
    "cpc_rates = {\n",
    "    \"Accessories\": 2.92,\n",
    "    \"Apparel\": 2.92,\n",
    "    \"Bags\": 2.50,\n",
    "    \"Brands\": 3.00,\n",
    "    \"Electronics\": 10.76,\n",
    "    \"Gift Cards\": 1.76,\n",
    "    \"Kids\": 1.50,\n",
    "    \"Lifestyle\": 2.50,\n",
    "    \"Limited Supply\": 1.76,\n",
    "    \"Office\": 3.00,\n",
    "    \"Other\": 2.80,\n",
    "    \"Sale\": 2.50\n",
    "}"
   ]
  },
  {
   "cell_type": "code",
   "execution_count": 116,
   "metadata": {
    "colab": {
     "base_uri": "https://localhost:8080/"
    },
    "id": "nu-Smc17sqwY",
    "outputId": "30c73f2a-8c7f-4ef8-fc45-79d6a81e3fd2"
   },
   "outputs": [
    {
     "name": "stdout",
     "output_type": "stream",
     "text": [
      "     main_category  total_sessions  cpc_rate  estimated_cpc_cost\n",
      "0      Accessories           61020      2.92            178178.4\n",
      "1          Apparel          171988      2.92           502204.96\n",
      "2             Bags           27140      2.50             67850.0\n",
      "3           Brands           60520      3.00            181560.0\n",
      "4      Electronics           38957     10.76           419177.32\n",
      "5       Gift Cards             301      1.76              529.76\n",
      "6             Kids             174      1.50               261.0\n",
      "7        Lifestyle           15696      2.50             39240.0\n",
      "8   Limited Supply            3338      1.76             5874.88\n",
      "9           Office           48586      3.00            145758.0\n",
      "10            Sale             924      2.50              2310.0\n",
      "11     Unavailable           26299       NaN                <NA>\n",
      "\n",
      "Total CPC Cost: $1542944.32\n"
     ]
    }
   ],
   "source": [
    "# Map CPC rates to results_cpc\n",
    "result_cpc['cpc_rate'] = result_cpc['main_category'].map(cpc_rates)\n",
    "\n",
    "# estimated cost for each category\n",
    "result_cpc['estimated_cpc_cost'] = result_cpc['total_sessions'] * result_cpc['cpc_rate']\n",
    "\n",
    "# total cost\n",
    "cpc_cost = result_cpc['estimated_cpc_cost'].sum()\n",
    "\n",
    "print(result_cpc[['main_category', 'total_sessions', 'cpc_rate', 'estimated_cpc_cost']])\n",
    "print(\"\\nTotal CPC Cost: ${:.2f}\".format(cpc_cost))"
   ]
  },
  {
   "cell_type": "markdown",
   "metadata": {
    "id": "O9rdBMmtb3Bf"
   },
   "source": [
    "## (c) cpm (Greg)"
   ]
  },
  {
   "cell_type": "markdown",
   "metadata": {
    "id": "dJt09Xi4lqdQ"
   },
   "source": [
    "### (i) Obtain necessary data"
   ]
  },
  {
   "cell_type": "code",
   "execution_count": 117,
   "metadata": {
    "id": "-5_pc5jlb5aw"
   },
   "outputs": [],
   "source": [
    "result_cpm = (\n",
    "    result[result['channel'] == 'cpm']  # Filter for cpm channel\n",
    "    .groupby('main_category')  # Group by main_category\n",
    "    .agg({\n",
    "        'total_users': 'sum',\n",
    "        'total_sessions': 'sum',\n",
    "        'total_transactions': 'sum',\n",
    "        'total_revenue': 'sum'\n",
    "    })  # Aggregate sums\n",
    "    .reset_index()  # Reset the index to get a DataFrame\n",
    ")"
   ]
  },
  {
   "cell_type": "code",
   "execution_count": 118,
   "metadata": {
    "colab": {
     "base_uri": "https://localhost:8080/"
    },
    "id": "vxAzGpO6cSRi",
    "outputId": "1cc4950f-de89-445d-f96d-bc95529e95eb"
   },
   "outputs": [
    {
     "data": {
      "text/html": [
       "<div>\n",
       "<style scoped>\n",
       "    .dataframe tbody tr th:only-of-type {\n",
       "        vertical-align: middle;\n",
       "    }\n",
       "\n",
       "    .dataframe tbody tr th {\n",
       "        vertical-align: top;\n",
       "    }\n",
       "\n",
       "    .dataframe thead th {\n",
       "        text-align: right;\n",
       "    }\n",
       "</style>\n",
       "<table border=\"1\" class=\"dataframe\">\n",
       "  <thead>\n",
       "    <tr style=\"text-align: right;\">\n",
       "      <th></th>\n",
       "      <th>main_category</th>\n",
       "      <th>total_users</th>\n",
       "      <th>total_sessions</th>\n",
       "      <th>total_transactions</th>\n",
       "      <th>total_revenue</th>\n",
       "    </tr>\n",
       "  </thead>\n",
       "  <tbody>\n",
       "    <tr>\n",
       "      <th>0</th>\n",
       "      <td>Accessories</td>\n",
       "      <td>2105</td>\n",
       "      <td>28815</td>\n",
       "      <td>36</td>\n",
       "      <td>13812.618656</td>\n",
       "    </tr>\n",
       "    <tr>\n",
       "      <th>1</th>\n",
       "      <td>Apparel</td>\n",
       "      <td>2655</td>\n",
       "      <td>62965</td>\n",
       "      <td>82</td>\n",
       "      <td>68651.143974</td>\n",
       "    </tr>\n",
       "    <tr>\n",
       "      <th>2</th>\n",
       "      <td>Bags</td>\n",
       "      <td>1190</td>\n",
       "      <td>15844</td>\n",
       "      <td>16</td>\n",
       "      <td>3396.327354</td>\n",
       "    </tr>\n",
       "    <tr>\n",
       "      <th>3</th>\n",
       "      <td>Brands</td>\n",
       "      <td>753</td>\n",
       "      <td>18144</td>\n",
       "      <td>2</td>\n",
       "      <td>18.970000</td>\n",
       "    </tr>\n",
       "    <tr>\n",
       "      <th>4</th>\n",
       "      <td>Electronics</td>\n",
       "      <td>1004</td>\n",
       "      <td>16492</td>\n",
       "      <td>8</td>\n",
       "      <td>378.758410</td>\n",
       "    </tr>\n",
       "    <tr>\n",
       "      <th>5</th>\n",
       "      <td>Gift Cards</td>\n",
       "      <td>27</td>\n",
       "      <td>141</td>\n",
       "      <td>1</td>\n",
       "      <td>106.000000</td>\n",
       "    </tr>\n",
       "    <tr>\n",
       "      <th>6</th>\n",
       "      <td>Kids</td>\n",
       "      <td>1</td>\n",
       "      <td>19</td>\n",
       "      <td>0</td>\n",
       "      <td>0.000000</td>\n",
       "    </tr>\n",
       "    <tr>\n",
       "      <th>7</th>\n",
       "      <td>Lifestyle</td>\n",
       "      <td>111</td>\n",
       "      <td>4348</td>\n",
       "      <td>21</td>\n",
       "      <td>4039.663422</td>\n",
       "    </tr>\n",
       "    <tr>\n",
       "      <th>8</th>\n",
       "      <td>Limited Supply</td>\n",
       "      <td>53</td>\n",
       "      <td>1384</td>\n",
       "      <td>0</td>\n",
       "      <td>0.000000</td>\n",
       "    </tr>\n",
       "    <tr>\n",
       "      <th>9</th>\n",
       "      <td>Office</td>\n",
       "      <td>887</td>\n",
       "      <td>18866</td>\n",
       "      <td>48</td>\n",
       "      <td>34998.393821</td>\n",
       "    </tr>\n",
       "    <tr>\n",
       "      <th>10</th>\n",
       "      <td>Sale</td>\n",
       "      <td>5</td>\n",
       "      <td>94</td>\n",
       "      <td>0</td>\n",
       "      <td>0.000000</td>\n",
       "    </tr>\n",
       "    <tr>\n",
       "      <th>11</th>\n",
       "      <td>Unavailable</td>\n",
       "      <td>1119</td>\n",
       "      <td>12463</td>\n",
       "      <td>31</td>\n",
       "      <td>3962.174276</td>\n",
       "    </tr>\n",
       "  </tbody>\n",
       "</table>\n",
       "</div>"
      ],
      "text/plain": [
       "     main_category  total_users  total_sessions  total_transactions  \\\n",
       "0      Accessories         2105           28815                  36   \n",
       "1          Apparel         2655           62965                  82   \n",
       "2             Bags         1190           15844                  16   \n",
       "3           Brands          753           18144                   2   \n",
       "4      Electronics         1004           16492                   8   \n",
       "5       Gift Cards           27             141                   1   \n",
       "6             Kids            1              19                   0   \n",
       "7        Lifestyle          111            4348                  21   \n",
       "8   Limited Supply           53            1384                   0   \n",
       "9           Office          887           18866                  48   \n",
       "10            Sale            5              94                   0   \n",
       "11     Unavailable         1119           12463                  31   \n",
       "\n",
       "    total_revenue  \n",
       "0    13812.618656  \n",
       "1    68651.143974  \n",
       "2     3396.327354  \n",
       "3       18.970000  \n",
       "4      378.758410  \n",
       "5      106.000000  \n",
       "6        0.000000  \n",
       "7     4039.663422  \n",
       "8        0.000000  \n",
       "9    34998.393821  \n",
       "10       0.000000  \n",
       "11    3962.174276  "
      ]
     },
     "execution_count": 118,
     "metadata": {},
     "output_type": "execute_result"
    }
   ],
   "source": [
    "result_cpm"
   ]
  },
  {
   "cell_type": "markdown",
   "metadata": {
    "id": "opO4gOYelslu"
   },
   "source": [
    "### (ii) Analysis"
   ]
  },
  {
   "cell_type": "code",
   "execution_count": 119,
   "metadata": {
    "id": "q2IwjRqVluxs"
   },
   "outputs": [],
   "source": [
    "# cpm_cost ="
   ]
  },
  {
   "cell_type": "markdown",
   "metadata": {
    "id": "Zr9cS8fHb6NK"
   },
   "source": [
    "## (d) Referral (JQ)"
   ]
  },
  {
   "cell_type": "markdown",
   "metadata": {
    "id": "g_lFN15Uld9a"
   },
   "source": [
    "### (i) Obtain necessary data"
   ]
  },
  {
   "cell_type": "code",
   "execution_count": 120,
   "metadata": {
    "id": "VqwAW-s-b-ki"
   },
   "outputs": [],
   "source": [
    "result_refferal = (\n",
    "    result[result['channel'] == 'referral']  # Filter for refferal channel\n",
    "    .groupby('main_category')  # Group by main_category\n",
    "    .agg({\n",
    "        'total_users': 'sum',\n",
    "        'total_sessions': 'sum',\n",
    "        'total_transactions': 'sum',\n",
    "        'total_revenue': 'sum'\n",
    "    })  # Aggregate sums\n",
    "    .reset_index()  # Reset the index to get a DataFrame\n",
    ")"
   ]
  },
  {
   "cell_type": "code",
   "execution_count": 121,
   "metadata": {
    "colab": {
     "base_uri": "https://localhost:8080/"
    },
    "id": "bAWDZ_u5cdBQ",
    "outputId": "8937b421-9003-4ae7-c4f6-31c4179889e2"
   },
   "outputs": [
    {
     "data": {
      "text/html": [
       "<div>\n",
       "<style scoped>\n",
       "    .dataframe tbody tr th:only-of-type {\n",
       "        vertical-align: middle;\n",
       "    }\n",
       "\n",
       "    .dataframe tbody tr th {\n",
       "        vertical-align: top;\n",
       "    }\n",
       "\n",
       "    .dataframe thead th {\n",
       "        text-align: right;\n",
       "    }\n",
       "</style>\n",
       "<table border=\"1\" class=\"dataframe\">\n",
       "  <thead>\n",
       "    <tr style=\"text-align: right;\">\n",
       "      <th></th>\n",
       "      <th>main_category</th>\n",
       "      <th>total_users</th>\n",
       "      <th>total_sessions</th>\n",
       "      <th>total_transactions</th>\n",
       "      <th>total_revenue</th>\n",
       "    </tr>\n",
       "  </thead>\n",
       "  <tbody>\n",
       "    <tr>\n",
       "      <th>0</th>\n",
       "      <td></td>\n",
       "      <td>4</td>\n",
       "      <td>60</td>\n",
       "      <td>0</td>\n",
       "      <td>0.000000</td>\n",
       "    </tr>\n",
       "    <tr>\n",
       "      <th>1</th>\n",
       "      <td>Accessories</td>\n",
       "      <td>12836</td>\n",
       "      <td>172494</td>\n",
       "      <td>54</td>\n",
       "      <td>6008.344019</td>\n",
       "    </tr>\n",
       "    <tr>\n",
       "      <th>2</th>\n",
       "      <td>Apparel</td>\n",
       "      <td>16140</td>\n",
       "      <td>383356</td>\n",
       "      <td>183</td>\n",
       "      <td>15829.599049</td>\n",
       "    </tr>\n",
       "    <tr>\n",
       "      <th>3</th>\n",
       "      <td>Bags</td>\n",
       "      <td>5394</td>\n",
       "      <td>67144</td>\n",
       "      <td>43</td>\n",
       "      <td>5007.743189</td>\n",
       "    </tr>\n",
       "    <tr>\n",
       "      <th>4</th>\n",
       "      <td>Brands</td>\n",
       "      <td>29576</td>\n",
       "      <td>514499</td>\n",
       "      <td>11</td>\n",
       "      <td>181.470000</td>\n",
       "    </tr>\n",
       "    <tr>\n",
       "      <th>5</th>\n",
       "      <td>Electronics</td>\n",
       "      <td>7728</td>\n",
       "      <td>114719</td>\n",
       "      <td>34</td>\n",
       "      <td>3578.903215</td>\n",
       "    </tr>\n",
       "    <tr>\n",
       "      <th>6</th>\n",
       "      <td>Gift Cards</td>\n",
       "      <td>913</td>\n",
       "      <td>6154</td>\n",
       "      <td>1</td>\n",
       "      <td>257.000000</td>\n",
       "    </tr>\n",
       "    <tr>\n",
       "      <th>7</th>\n",
       "      <td>Kids</td>\n",
       "      <td>11</td>\n",
       "      <td>342</td>\n",
       "      <td>0</td>\n",
       "      <td>0.000000</td>\n",
       "    </tr>\n",
       "    <tr>\n",
       "      <th>8</th>\n",
       "      <td>Lifestyle</td>\n",
       "      <td>790</td>\n",
       "      <td>25860</td>\n",
       "      <td>32</td>\n",
       "      <td>1826.810723</td>\n",
       "    </tr>\n",
       "    <tr>\n",
       "      <th>9</th>\n",
       "      <td>Limited Supply</td>\n",
       "      <td>409</td>\n",
       "      <td>7881</td>\n",
       "      <td>0</td>\n",
       "      <td>0.000000</td>\n",
       "    </tr>\n",
       "    <tr>\n",
       "      <th>10</th>\n",
       "      <td>Office</td>\n",
       "      <td>5792</td>\n",
       "      <td>122655</td>\n",
       "      <td>73</td>\n",
       "      <td>5133.867301</td>\n",
       "    </tr>\n",
       "    <tr>\n",
       "      <th>11</th>\n",
       "      <td>Other</td>\n",
       "      <td>1</td>\n",
       "      <td>5</td>\n",
       "      <td>0</td>\n",
       "      <td>0.000000</td>\n",
       "    </tr>\n",
       "    <tr>\n",
       "      <th>12</th>\n",
       "      <td>Sale</td>\n",
       "      <td>95</td>\n",
       "      <td>2750</td>\n",
       "      <td>0</td>\n",
       "      <td>0.000000</td>\n",
       "    </tr>\n",
       "    <tr>\n",
       "      <th>13</th>\n",
       "      <td>Unavailable</td>\n",
       "      <td>12821</td>\n",
       "      <td>80939</td>\n",
       "      <td>66</td>\n",
       "      <td>8892.432357</td>\n",
       "    </tr>\n",
       "  </tbody>\n",
       "</table>\n",
       "</div>"
      ],
      "text/plain": [
       "     main_category  total_users  total_sessions  total_transactions  \\\n",
       "0                             4              60                   0   \n",
       "1      Accessories        12836          172494                  54   \n",
       "2          Apparel        16140          383356                 183   \n",
       "3             Bags         5394           67144                  43   \n",
       "4           Brands        29576          514499                  11   \n",
       "5      Electronics         7728          114719                  34   \n",
       "6       Gift Cards          913            6154                   1   \n",
       "7             Kids           11             342                   0   \n",
       "8        Lifestyle          790           25860                  32   \n",
       "9   Limited Supply          409            7881                   0   \n",
       "10          Office         5792          122655                  73   \n",
       "11           Other            1               5                   0   \n",
       "12            Sale           95            2750                   0   \n",
       "13     Unavailable        12821           80939                  66   \n",
       "\n",
       "    total_revenue  \n",
       "0        0.000000  \n",
       "1     6008.344019  \n",
       "2    15829.599049  \n",
       "3     5007.743189  \n",
       "4      181.470000  \n",
       "5     3578.903215  \n",
       "6      257.000000  \n",
       "7        0.000000  \n",
       "8     1826.810723  \n",
       "9        0.000000  \n",
       "10    5133.867301  \n",
       "11       0.000000  \n",
       "12       0.000000  \n",
       "13    8892.432357  "
      ]
     },
     "execution_count": 121,
     "metadata": {},
     "output_type": "execute_result"
    }
   ],
   "source": [
    "result_refferal"
   ]
  },
  {
   "cell_type": "markdown",
   "metadata": {
    "id": "MmbmX4_fllUb"
   },
   "source": [
    "### (ii) Analysis"
   ]
  },
  {
   "cell_type": "code",
   "execution_count": 122,
   "metadata": {
    "id": "jyAPMgxxloTc"
   },
   "outputs": [],
   "source": [
    "# referral_cost ="
   ]
  },
  {
   "cell_type": "markdown",
   "metadata": {
    "id": "h-kkjrqxb_FK"
   },
   "source": [
    "## (e) Affiliate (MH)"
   ]
  },
  {
   "cell_type": "markdown",
   "metadata": {
    "id": "CjGhX95pet_K"
   },
   "source": [
    "**Background:**\n",
    "In marketing, affiliation is a performance-based model where businesses reward affiliates (partners, influencers, websites, etc.) for driving traffic, leads, or sales to the company's products or services. Affiliates promote products using unique links, banners, or codes, earning a commission when someone makes a purchase or completes a desired action through their referral.\n",
    "\n",
    "**Affiliate Marketing Costs:**\n",
    "Affiliate costs typically vary based on the compensation structure agreed upon between the business and the affiliate. Common models include:\n",
    "\n",
    "- **Pay-per-Sale (PPS):** A commission on each sale generated. Commissions can be a fixed amount or a percentage of the sale price.\n",
    "- **Pay-per-Click (PPC):** A fee for each click directed to the business’s website, regardless of whether a sale is made."
   ]
  },
  {
   "cell_type": "markdown",
   "metadata": {
    "id": "CZQ7S3Acixnu"
   },
   "source": [
    "**Types of Commissions:**\n",
    "\n",
    "- **Performance-Based Commissions:**\n",
    "Performance-based commission in affiliate marketing is a compensation structure where affiliates earn money based on the specific actions they generate, such as sales, leads, or clicks. This model aligns the interests of the affiliates and the advertisers by ensuring that affiliates are only paid when they deliver measurable results. This may range from sale commissions, lead commissions, or click commissions, often with varied percentages based on the value of the action to the advertiser.\n",
    "\n",
    "- **Flat-Rate Commissions:**\n",
    "Flat-rate commissions in affiliate marketing involve paying affiliates a predetermined, fixed amount for each action they facilitate, regardless of the value of the transaction. This type of commission structure contrasts with percentage-based commissions, where the affiliate earns a variable amount based on the percentage of the sale or transaction value."
   ]
  },
  {
   "cell_type": "markdown",
   "metadata": {
    "id": "uY6Wxz2pim-M"
   },
   "source": [
    "**Rationale:**\n",
    "\n",
    "- We choose **PPS and Performance-Based Commissions** in subsequent analysis as it is more comprehensive framework, working well for products with a wide value range, or services in which customer LTV varies widely.\n",
    "- Commission rates vary widely by products, from as low as 1-5% (common in electronics) to 20% or higher (typical for software or digital products).\n",
    "- Since the e-commerce website has a higher presence in the US, we strive to **follow US industry standards** while performing cost estimation.\n",
    "\n",
    "**Sensible estimates of main product lines from our research:**\n",
    "\n",
    "- **Apparel & Accessories:** 8-12% commission (due to higher average margins and frequent promotions).\n",
    "- **Office Supplies:** Around 5-8% (lower margin, typically lower commission).\n",
    "- **Electronics:** 2-4% (highly competitive and lower-margin sector).\n",
    "- **Other categories:** Categories outside Apparel, Office, Accessories, and Electronics typically have mixed margins. A mid-range commission rate of 5% covers these varying margins without overestimating costs. Many secondary categories (e.g., home goods, basic consumables) have stable, but relatively low, margins compared to Apparel and Accessories, aligning well with a 5% commission."
   ]
  },
  {
   "cell_type": "markdown",
   "metadata": {
    "id": "jJuvioyelXTk"
   },
   "source": [
    "### (i) Obtain necessary data"
   ]
  },
  {
   "cell_type": "code",
   "execution_count": 123,
   "metadata": {
    "id": "Tr61IAQycBqK"
   },
   "outputs": [],
   "source": [
    "result_affiliate = (\n",
    "    result[result['channel'] == 'affiliate']  # Filter for affiliate channel\n",
    "    .groupby('main_category')  # Group by main_category\n",
    "    .agg({\n",
    "        'total_users': 'sum',\n",
    "        'total_sessions': 'sum',\n",
    "        'total_transactions': 'sum',\n",
    "        'total_revenue': 'sum'\n",
    "    })  # Aggregate sums\n",
    "    .reset_index()  # Reset the index to get a DataFrame\n",
    ")"
   ]
  },
  {
   "cell_type": "code",
   "execution_count": 124,
   "metadata": {
    "colab": {
     "base_uri": "https://localhost:8080/",
     "height": 425
    },
    "id": "mcu6gbxOcuha",
    "outputId": "2bef3ae4-4243-4575-aa55-c53b0ce75b25"
   },
   "outputs": [
    {
     "data": {
      "text/html": [
       "<div>\n",
       "<style scoped>\n",
       "    .dataframe tbody tr th:only-of-type {\n",
       "        vertical-align: middle;\n",
       "    }\n",
       "\n",
       "    .dataframe tbody tr th {\n",
       "        vertical-align: top;\n",
       "    }\n",
       "\n",
       "    .dataframe thead th {\n",
       "        text-align: right;\n",
       "    }\n",
       "</style>\n",
       "<table border=\"1\" class=\"dataframe\">\n",
       "  <thead>\n",
       "    <tr style=\"text-align: right;\">\n",
       "      <th></th>\n",
       "      <th>main_category</th>\n",
       "      <th>total_users</th>\n",
       "      <th>total_sessions</th>\n",
       "      <th>total_transactions</th>\n",
       "      <th>total_revenue</th>\n",
       "    </tr>\n",
       "  </thead>\n",
       "  <tbody>\n",
       "    <tr>\n",
       "      <th>0</th>\n",
       "      <td>Accessories</td>\n",
       "      <td>2781</td>\n",
       "      <td>34648</td>\n",
       "      <td>1</td>\n",
       "      <td>104.704544</td>\n",
       "    </tr>\n",
       "    <tr>\n",
       "      <th>1</th>\n",
       "      <td>Apparel</td>\n",
       "      <td>3263</td>\n",
       "      <td>68700</td>\n",
       "      <td>3</td>\n",
       "      <td>74.980000</td>\n",
       "    </tr>\n",
       "    <tr>\n",
       "      <th>2</th>\n",
       "      <td>Bags</td>\n",
       "      <td>1307</td>\n",
       "      <td>13962</td>\n",
       "      <td>1</td>\n",
       "      <td>194.100000</td>\n",
       "    </tr>\n",
       "    <tr>\n",
       "      <th>3</th>\n",
       "      <td>Brands</td>\n",
       "      <td>1431</td>\n",
       "      <td>29845</td>\n",
       "      <td>0</td>\n",
       "      <td>0.000000</td>\n",
       "    </tr>\n",
       "    <tr>\n",
       "      <th>4</th>\n",
       "      <td>Electronics</td>\n",
       "      <td>2074</td>\n",
       "      <td>31984</td>\n",
       "      <td>0</td>\n",
       "      <td>0.000000</td>\n",
       "    </tr>\n",
       "    <tr>\n",
       "      <th>5</th>\n",
       "      <td>Gift Cards</td>\n",
       "      <td>79</td>\n",
       "      <td>504</td>\n",
       "      <td>0</td>\n",
       "      <td>0.000000</td>\n",
       "    </tr>\n",
       "    <tr>\n",
       "      <th>6</th>\n",
       "      <td>Kids</td>\n",
       "      <td>1</td>\n",
       "      <td>19</td>\n",
       "      <td>0</td>\n",
       "      <td>0.000000</td>\n",
       "    </tr>\n",
       "    <tr>\n",
       "      <th>7</th>\n",
       "      <td>Lifestyle</td>\n",
       "      <td>345</td>\n",
       "      <td>10005</td>\n",
       "      <td>3</td>\n",
       "      <td>149.691816</td>\n",
       "    </tr>\n",
       "    <tr>\n",
       "      <th>8</th>\n",
       "      <td>Limited Supply</td>\n",
       "      <td>176</td>\n",
       "      <td>3192</td>\n",
       "      <td>0</td>\n",
       "      <td>0.000000</td>\n",
       "    </tr>\n",
       "    <tr>\n",
       "      <th>9</th>\n",
       "      <td>Office</td>\n",
       "      <td>1536</td>\n",
       "      <td>32627</td>\n",
       "      <td>2</td>\n",
       "      <td>35.193636</td>\n",
       "    </tr>\n",
       "    <tr>\n",
       "      <th>10</th>\n",
       "      <td>Sale</td>\n",
       "      <td>15</td>\n",
       "      <td>188</td>\n",
       "      <td>0</td>\n",
       "      <td>0.000000</td>\n",
       "    </tr>\n",
       "    <tr>\n",
       "      <th>11</th>\n",
       "      <td>Unavailable</td>\n",
       "      <td>1598</td>\n",
       "      <td>8499</td>\n",
       "      <td>3</td>\n",
       "      <td>79.430000</td>\n",
       "    </tr>\n",
       "  </tbody>\n",
       "</table>\n",
       "</div>"
      ],
      "text/plain": [
       "     main_category  total_users  total_sessions  total_transactions  \\\n",
       "0      Accessories         2781           34648                   1   \n",
       "1          Apparel         3263           68700                   3   \n",
       "2             Bags         1307           13962                   1   \n",
       "3           Brands         1431           29845                   0   \n",
       "4      Electronics         2074           31984                   0   \n",
       "5       Gift Cards           79             504                   0   \n",
       "6             Kids            1              19                   0   \n",
       "7        Lifestyle          345           10005                   3   \n",
       "8   Limited Supply          176            3192                   0   \n",
       "9           Office         1536           32627                   2   \n",
       "10            Sale           15             188                   0   \n",
       "11     Unavailable         1598            8499                   3   \n",
       "\n",
       "    total_revenue  \n",
       "0      104.704544  \n",
       "1       74.980000  \n",
       "2      194.100000  \n",
       "3        0.000000  \n",
       "4        0.000000  \n",
       "5        0.000000  \n",
       "6        0.000000  \n",
       "7      149.691816  \n",
       "8        0.000000  \n",
       "9       35.193636  \n",
       "10       0.000000  \n",
       "11      79.430000  "
      ]
     },
     "execution_count": 124,
     "metadata": {},
     "output_type": "execute_result"
    }
   ],
   "source": [
    "result_affiliate"
   ]
  },
  {
   "cell_type": "markdown",
   "metadata": {
    "id": "y4PLfSKfmAZ3"
   },
   "source": [
    "### (ii) Analysis\n",
    "\n",
    "**Assign Commission Rates by Category:**\n",
    "\n",
    "  - Apparel & Accessories: 10%\n",
    "  - Office: 6%\n",
    "  - Electronics: 3%\n",
    "  - Other Categories: 5%"
   ]
  },
  {
   "cell_type": "code",
   "execution_count": 125,
   "metadata": {
    "id": "M_-AvEWsmBsz"
   },
   "outputs": [],
   "source": [
    "# Define categories and respective assumed commission rates\n",
    "commission_rates = {\n",
    "    'Apparel': 0.10,\n",
    "    'Accessories': 0.10,\n",
    "    'Office': 0.06,\n",
    "    'Electronics': 0.03,\n",
    "    'Other Categories': 0.05\n",
    "}"
   ]
  },
  {
   "cell_type": "markdown",
   "metadata": {
    "id": "nNF-93aIn1y_"
   },
   "source": [
    "**Calculate Weighted Revenue by Category**"
   ]
  },
  {
   "cell_type": "code",
   "execution_count": 126,
   "metadata": {
    "id": "zgZJNjHCn26b"
   },
   "outputs": [],
   "source": [
    "def calculate_revenue_weights(result_affiliate):\n",
    "    # Calculate the total revenue from the grouped DataFrame\n",
    "    total_revenue = result_affiliate['total_revenue'].sum()\n",
    "\n",
    "    # Calculate the weights for each category\n",
    "    result_affiliate['revenue_weight'] = result_affiliate['total_revenue'] / total_revenue\n",
    "\n",
    "    return result_affiliate"
   ]
  },
  {
   "cell_type": "code",
   "execution_count": 127,
   "metadata": {
    "id": "VZb0gddyqBEN"
   },
   "outputs": [],
   "source": [
    "def sum_revenue_weights(result_affiliate):\n",
    "    # Specify the categories to exclude\n",
    "    excluded_categories = ['Apparel', 'Accessories', 'Electronics', 'Office']\n",
    "\n",
    "    # Initialize a dictionary for the weights\n",
    "    weights_dict = {}\n",
    "\n",
    "    # Sum the weights for categories not in the excluded list\n",
    "    total_weight_sum = result_affiliate.loc[~result_affiliate['main_category'].isin(excluded_categories), 'revenue_weight'].sum()\n",
    "\n",
    "    # Create the dictionary with the total weight sum for excluded categories\n",
    "    weights_dict['Other Categories'] = total_weight_sum\n",
    "\n",
    "    # Add unchanged weights for other categories\n",
    "    for category in excluded_categories:\n",
    "        weights_dict[category] = result_affiliate.loc[result_affiliate['main_category'] == category, 'revenue_weight'].iloc[0]\n",
    "\n",
    "    return weights_dict"
   ]
  },
  {
   "cell_type": "code",
   "execution_count": 128,
   "metadata": {
    "id": "ct10T7Wxqykx"
   },
   "outputs": [],
   "source": [
    "weights_dict = sum_revenue_weights(calculate_revenue_weights(result_affiliate))"
   ]
  },
  {
   "cell_type": "markdown",
   "metadata": {
    "id": "5D_Y3VGvn8B1"
   },
   "source": [
    "**Calculate Weighted Average Commission**"
   ]
  },
  {
   "cell_type": "code",
   "execution_count": 129,
   "metadata": {
    "id": "_HjmkMBRn84t"
   },
   "outputs": [],
   "source": [
    "# Calculate weighted average commission rate\n",
    "weighted_average_commission = sum(\n",
    "    commission_rates[category] * weights_dict[category] for category in commission_rates\n",
    ")"
   ]
  },
  {
   "cell_type": "markdown",
   "metadata": {
    "id": "rn9cEhUHr_Hs"
   },
   "source": [
    "**Calculate Affiliate Cost**"
   ]
  },
  {
   "cell_type": "code",
   "execution_count": 130,
   "metadata": {
    "colab": {
     "base_uri": "https://localhost:8080/"
    },
    "id": "Qw0vJdbSr5vQ",
    "outputId": "d1699779-f7c9-4113-a0e9-989d44e7bd3f"
   },
   "outputs": [
    {
     "name": "stdout",
     "output_type": "stream",
     "text": [
      "\n",
      "Total Affiliate Cost: $41.24\n"
     ]
    }
   ],
   "source": [
    "affiliate_cost = weighted_average_commission * result_affiliate['total_revenue'].sum()\n",
    "print(\"\\nTotal Affiliate Cost: ${:.2f}\".format(affiliate_cost))"
   ]
  },
  {
   "cell_type": "markdown",
   "metadata": {
    "id": "UYgjpUwnsrFA"
   },
   "source": [
    "# **3. Calculate ROI of different marketing channels**\n",
    "\n",
    "$\n",
    "\\text{ROI} = \\frac{\\text{Total Revenue} - \\text{Total Cost}}{\\text{Total Cost}} \\times 100\n",
    "$"
   ]
  },
  {
   "cell_type": "code",
   "execution_count": 131,
   "metadata": {
    "colab": {
     "base_uri": "https://localhost:8080/"
    },
    "id": "8rWoc8eSsz0_",
    "outputId": "8f08abe1-15ce-4ca2-ca50-d7211cfbac57"
   },
   "outputs": [
    {
     "name": "stdout",
     "output_type": "stream",
     "text": [
      "\n",
      "Organic ROI: -0.37%\n",
      "\n",
      "CPC ROI: -0.98%\n",
      "\n",
      "Affiliate ROI: 14.47%\n"
     ]
    }
   ],
   "source": [
    "organic_roi = (sum(result_organic['total_revenue']) - organic_cost) / organic_cost\n",
    "cpc_roi = (sum(result_cpc['total_revenue']) - cpc_cost) / cpc_cost\n",
    "affiliate_roi = (sum(result_affiliate['total_revenue']) - affiliate_cost) / affiliate_cost\n",
    "\n",
    "print(\"\\nOrganic ROI: {:.2f}%\".format(organic_roi))\n",
    "print(\"\\nCPC ROI: {:.2f}%\".format(cpc_roi))\n",
    "print(\"\\nAffiliate ROI: {:.2f}%\".format(affiliate_roi))"
   ]
  },
  {
   "cell_type": "markdown",
   "metadata": {
    "id": "ffc9D4Nts0n6"
   },
   "source": [
    "# **4. Evaluation**"
   ]
  },
  {
   "cell_type": "code",
   "execution_count": null,
   "metadata": {
    "id": "Kq4mPfuDs4Za"
   },
   "outputs": [],
   "source": []
  }
 ],
 "metadata": {
  "colab": {
   "collapsed_sections": [
    "7YGvs1FBIgkH",
    "TjK_iRMEV1sZ",
    "hZL2ckqFV4Me",
    "O9rdBMmtb3Bf",
    "Zr9cS8fHb6NK",
    "UYgjpUwnsrFA",
    "ffc9D4Nts0n6"
   ],
   "include_colab_link": true,
   "provenance": []
  },
  "kernelspec": {
   "display_name": "base",
   "language": "python",
   "name": "python3"
  },
  "language_info": {
   "codemirror_mode": {
    "name": "ipython",
    "version": 3
   },
   "file_extension": ".py",
   "mimetype": "text/x-python",
   "name": "python",
   "nbconvert_exporter": "python",
   "pygments_lexer": "ipython3",
   "version": "3.12.4"
  }
 },
 "nbformat": 4,
 "nbformat_minor": 0
}
