{
 "cells": [
  {
   "cell_type": "markdown",
   "metadata": {},
   "source": [
    "1. What are the key factors influencing customer purchasing behavior?\n",
    "- Analyze historical sales data to identify patterns and trends.\n",
    "- Develop customer segmentation models based on purchasing behavior"
   ]
  },
  {
   "cell_type": "markdown",
   "metadata": {},
   "source": [
    "Previously, we identified patterns and trends that influence customer purchasing behavior. We will now perform PCA, and leverage its results together with k-means clustering to develop a customer segmentation model."
   ]
  },
  {
   "cell_type": "markdown",
   "metadata": {},
   "source": [
    "# **0. Import necessary packages and data**"
   ]
  },
  {
   "cell_type": "markdown",
   "metadata": {},
   "source": [
    "## (a) Import Packages"
   ]
  },
  {
   "cell_type": "code",
   "execution_count": 1,
   "metadata": {},
   "outputs": [],
   "source": [
    "import pandas as pd\n",
    "import numpy as np\n",
    "from sklearn.decomposition import PCA\n",
    "from sklearn.preprocessing import StandardScaler, OneHotEncoder\n",
    "from sklearn.compose import ColumnTransformer\n",
    "from sklearn.pipeline import Pipeline\n",
    "import seaborn as sns\n",
    "import matplotlib.pyplot as plt"
   ]
  },
  {
   "cell_type": "markdown",
   "metadata": {},
   "source": [
    "## (b) Import Data"
   ]
  },
  {
   "cell_type": "code",
   "execution_count": 2,
   "metadata": {},
   "outputs": [],
   "source": [
    "customer_behavior = pd.read_csv(\"C:/Users/tanmi/Downloads/cleaned_customer_behavior.csv\")"
   ]
  },
  {
   "cell_type": "markdown",
   "metadata": {},
   "source": [
    "## (c) Drop unecessary columns"
   ]
  },
  {
   "cell_type": "code",
   "execution_count": 3,
   "metadata": {},
   "outputs": [],
   "source": [
    "customer_behavior['date'] = pd.to_datetime(customer_behavior['date'])  # Ensure the column is in datetime format\n",
    "\n",
    "# There are only two years (Aug 2016 to Aug 2017), so we drop year\n",
    "customer_behavior['month'] = customer_behavior['date'].dt.month"
   ]
  },
  {
   "cell_type": "code",
   "execution_count": 4,
   "metadata": {},
   "outputs": [],
   "source": [
    "# drop transactionRevenue since it is deprecated, drop numHits due to 0.98 correlation with pageviews as discussed in previous correlation analysis\n",
    "\n",
    "customer_behavior.drop(columns=['transactionRevenue','numHits','brand','product_name','medium','source','subsub_category','subcontinent','country','region','sub_category','date','startTime'], inplace=True)\n",
    "\n",
    "# brand has 18608504 datapoints not set. Almost whole dataset. product_name is a messy column similar to category\n",
    "# medium and source are unrelated to customer purchasing behavior. Will be examined in detail in other parts of our analysis\n",
    "# drop subsub_category due to dominating amount of Other, which does not value-add much to analysis and will make dataset very chunky when we do one-hot encoding"
   ]
  },
  {
   "cell_type": "markdown",
   "metadata": {},
   "source": [
    "## (d) Fill NAs"
   ]
  },
  {
   "cell_type": "code",
   "execution_count": 5,
   "metadata": {},
   "outputs": [],
   "source": [
    "# fill na\n",
    "\n",
    "customer_behavior['main_category'] = customer_behavior['main_category'].fillna('Other')"
   ]
  },
  {
   "cell_type": "code",
   "execution_count": 6,
   "metadata": {},
   "outputs": [],
   "source": [
    "columns_to_fill_2 = ['transactionId', 'timeOnSite','pageviews']\n",
    "\n",
    "customer_behavior[columns_to_fill_2] = customer_behavior[columns_to_fill_2].fillna(0)"
   ]
  },
  {
   "cell_type": "markdown",
   "metadata": {},
   "source": [
    "# **1. Encode & Standardize Data**"
   ]
  },
  {
   "cell_type": "code",
   "execution_count": 7,
   "metadata": {},
   "outputs": [],
   "source": [
    "# drop transactionId, visitId only for pca\n",
    "pca_data = customer_behavior.drop(['users','transactionId','visitId'],axis=1)"
   ]
  },
  {
   "cell_type": "code",
   "execution_count": 8,
   "metadata": {},
   "outputs": [
    {
     "data": {
      "text/plain": [
       "Index(['visitNumber', 'continent', 'action', 'timeOnSite', 'pageviews',\n",
       "       'sessionQuality', 'totals_revenue', 'transactions', 'price',\n",
       "       'impression', 'click', 'main_category', 'month'],\n",
       "      dtype='object')"
      ]
     },
     "execution_count": 8,
     "metadata": {},
     "output_type": "execute_result"
    }
   ],
   "source": [
    "pca_data.columns"
   ]
  },
  {
   "cell_type": "markdown",
   "metadata": {},
   "source": [
    "## (a) Standardize Data\n",
    "\n",
    "- It is important to carefully standardize data before performing PCA as it works under the assumption that the data is **normal distributed**, and is very sensitive to the variance of the variables. Large differences between the ranges of variables will dominate over those with small ranges.\n",
    "\n",
    "- We hence decide to implement the **z_score scaling** method."
   ]
  },
  {
   "cell_type": "code",
   "execution_count": 9,
   "metadata": {},
   "outputs": [],
   "source": [
    "cols_standardize = ['visitNumber','timeOnSite','pageviews','sessionQuality','totals_revenue','price']\n",
    "scaler = StandardScaler()\n",
    "pca_data[cols_standardize] = scaler.fit_transform(pca_data[cols_standardize])"
   ]
  },
  {
   "cell_type": "code",
   "execution_count": 10,
   "metadata": {},
   "outputs": [],
   "source": [
    "# Encode month as cyclical using sine and cosine transformations since there seem to be spike in revenue in Aug\n",
    "pca_data['month_sin'] = np.sin(2 * np.pi * pca_data['month'] / 12)\n",
    "pca_data['month_cos'] = np.cos(2 * np.pi * pca_data['month'] / 12)"
   ]
  },
  {
   "cell_type": "code",
   "execution_count": 11,
   "metadata": {},
   "outputs": [],
   "source": [
    "pca_data.drop(columns=['month'], inplace=True)"
   ]
  },
  {
   "cell_type": "code",
   "execution_count": 12,
   "metadata": {},
   "outputs": [
    {
     "data": {
      "text/html": [
       "<div>\n",
       "<style scoped>\n",
       "    .dataframe tbody tr th:only-of-type {\n",
       "        vertical-align: middle;\n",
       "    }\n",
       "\n",
       "    .dataframe tbody tr th {\n",
       "        vertical-align: top;\n",
       "    }\n",
       "\n",
       "    .dataframe thead th {\n",
       "        text-align: right;\n",
       "    }\n",
       "</style>\n",
       "<table border=\"1\" class=\"dataframe\">\n",
       "  <thead>\n",
       "    <tr style=\"text-align: right;\">\n",
       "      <th></th>\n",
       "      <th>visitNumber</th>\n",
       "      <th>timeOnSite</th>\n",
       "      <th>pageviews</th>\n",
       "      <th>sessionQuality</th>\n",
       "      <th>totals_revenue</th>\n",
       "      <th>transactions</th>\n",
       "      <th>price</th>\n",
       "      <th>impression</th>\n",
       "      <th>click</th>\n",
       "      <th>month_sin</th>\n",
       "      <th>...</th>\n",
       "      <th>continent_Americas</th>\n",
       "      <th>continent_Asia</th>\n",
       "      <th>continent_Europe</th>\n",
       "      <th>continent_Oceania</th>\n",
       "      <th>action_1</th>\n",
       "      <th>action_2</th>\n",
       "      <th>action_3</th>\n",
       "      <th>action_4</th>\n",
       "      <th>action_5</th>\n",
       "      <th>action_6</th>\n",
       "    </tr>\n",
       "  </thead>\n",
       "  <tbody>\n",
       "    <tr>\n",
       "      <th>0</th>\n",
       "      <td>-0.156224</td>\n",
       "      <td>-0.658610</td>\n",
       "      <td>-0.649980</td>\n",
       "      <td>-0.147757</td>\n",
       "      <td>-0.066716</td>\n",
       "      <td>0.0</td>\n",
       "      <td>-0.106332</td>\n",
       "      <td>1</td>\n",
       "      <td>0</td>\n",
       "      <td>1.0</td>\n",
       "      <td>...</td>\n",
       "      <td>False</td>\n",
       "      <td>True</td>\n",
       "      <td>False</td>\n",
       "      <td>False</td>\n",
       "      <td>False</td>\n",
       "      <td>False</td>\n",
       "      <td>False</td>\n",
       "      <td>False</td>\n",
       "      <td>False</td>\n",
       "      <td>False</td>\n",
       "    </tr>\n",
       "    <tr>\n",
       "      <th>1</th>\n",
       "      <td>-0.156224</td>\n",
       "      <td>-0.061270</td>\n",
       "      <td>-0.463982</td>\n",
       "      <td>-0.147757</td>\n",
       "      <td>-0.066716</td>\n",
       "      <td>0.0</td>\n",
       "      <td>-0.349136</td>\n",
       "      <td>1</td>\n",
       "      <td>0</td>\n",
       "      <td>1.0</td>\n",
       "      <td>...</td>\n",
       "      <td>True</td>\n",
       "      <td>False</td>\n",
       "      <td>False</td>\n",
       "      <td>False</td>\n",
       "      <td>False</td>\n",
       "      <td>False</td>\n",
       "      <td>False</td>\n",
       "      <td>False</td>\n",
       "      <td>False</td>\n",
       "      <td>False</td>\n",
       "    </tr>\n",
       "    <tr>\n",
       "      <th>2</th>\n",
       "      <td>-0.156224</td>\n",
       "      <td>-0.315370</td>\n",
       "      <td>-0.463982</td>\n",
       "      <td>-0.147757</td>\n",
       "      <td>-0.066716</td>\n",
       "      <td>0.0</td>\n",
       "      <td>-0.002274</td>\n",
       "      <td>1</td>\n",
       "      <td>0</td>\n",
       "      <td>1.0</td>\n",
       "      <td>...</td>\n",
       "      <td>True</td>\n",
       "      <td>False</td>\n",
       "      <td>False</td>\n",
       "      <td>False</td>\n",
       "      <td>False</td>\n",
       "      <td>False</td>\n",
       "      <td>False</td>\n",
       "      <td>False</td>\n",
       "      <td>False</td>\n",
       "      <td>False</td>\n",
       "    </tr>\n",
       "    <tr>\n",
       "      <th>3</th>\n",
       "      <td>-0.156224</td>\n",
       "      <td>0.193854</td>\n",
       "      <td>-0.315184</td>\n",
       "      <td>-0.147757</td>\n",
       "      <td>-0.066716</td>\n",
       "      <td>0.0</td>\n",
       "      <td>-0.817054</td>\n",
       "      <td>1</td>\n",
       "      <td>0</td>\n",
       "      <td>1.0</td>\n",
       "      <td>...</td>\n",
       "      <td>True</td>\n",
       "      <td>False</td>\n",
       "      <td>False</td>\n",
       "      <td>False</td>\n",
       "      <td>False</td>\n",
       "      <td>False</td>\n",
       "      <td>False</td>\n",
       "      <td>False</td>\n",
       "      <td>False</td>\n",
       "      <td>False</td>\n",
       "    </tr>\n",
       "    <tr>\n",
       "      <th>4</th>\n",
       "      <td>-0.156224</td>\n",
       "      <td>0.193854</td>\n",
       "      <td>-0.315184</td>\n",
       "      <td>-0.147757</td>\n",
       "      <td>-0.066716</td>\n",
       "      <td>0.0</td>\n",
       "      <td>-0.002274</td>\n",
       "      <td>1</td>\n",
       "      <td>0</td>\n",
       "      <td>1.0</td>\n",
       "      <td>...</td>\n",
       "      <td>True</td>\n",
       "      <td>False</td>\n",
       "      <td>False</td>\n",
       "      <td>False</td>\n",
       "      <td>False</td>\n",
       "      <td>False</td>\n",
       "      <td>False</td>\n",
       "      <td>False</td>\n",
       "      <td>False</td>\n",
       "      <td>False</td>\n",
       "    </tr>\n",
       "  </tbody>\n",
       "</table>\n",
       "<p>5 rows × 33 columns</p>\n",
       "</div>"
      ],
      "text/plain": [
       "   visitNumber  timeOnSite  pageviews  sessionQuality  totals_revenue  \\\n",
       "0    -0.156224   -0.658610  -0.649980       -0.147757       -0.066716   \n",
       "1    -0.156224   -0.061270  -0.463982       -0.147757       -0.066716   \n",
       "2    -0.156224   -0.315370  -0.463982       -0.147757       -0.066716   \n",
       "3    -0.156224    0.193854  -0.315184       -0.147757       -0.066716   \n",
       "4    -0.156224    0.193854  -0.315184       -0.147757       -0.066716   \n",
       "\n",
       "   transactions     price  impression  click  month_sin  ...  \\\n",
       "0           0.0 -0.106332           1      0        1.0  ...   \n",
       "1           0.0 -0.349136           1      0        1.0  ...   \n",
       "2           0.0 -0.002274           1      0        1.0  ...   \n",
       "3           0.0 -0.817054           1      0        1.0  ...   \n",
       "4           0.0 -0.002274           1      0        1.0  ...   \n",
       "\n",
       "   continent_Americas  continent_Asia  continent_Europe  continent_Oceania  \\\n",
       "0               False            True             False              False   \n",
       "1                True           False             False              False   \n",
       "2                True           False             False              False   \n",
       "3                True           False             False              False   \n",
       "4                True           False             False              False   \n",
       "\n",
       "   action_1  action_2  action_3  action_4  action_5  action_6  \n",
       "0     False     False     False     False     False     False  \n",
       "1     False     False     False     False     False     False  \n",
       "2     False     False     False     False     False     False  \n",
       "3     False     False     False     False     False     False  \n",
       "4     False     False     False     False     False     False  \n",
       "\n",
       "[5 rows x 33 columns]"
      ]
     },
     "execution_count": 12,
     "metadata": {},
     "output_type": "execute_result"
    }
   ],
   "source": [
    "# Onehot Encode\n",
    "categorical_features = ['main_category', 'continent', 'action']\n",
    "\n",
    "pca_data = pd.get_dummies(pca_data, drop_first = True, columns = categorical_features)\n",
    "pca_data.head()"
   ]
  },
  {
   "cell_type": "code",
   "execution_count": 13,
   "metadata": {},
   "outputs": [
    {
     "data": {
      "text/plain": [
       "Index(['visitNumber', 'timeOnSite', 'pageviews', 'sessionQuality',\n",
       "       'totals_revenue', 'transactions', 'price', 'impression', 'click',\n",
       "       'month_sin', 'month_cos', 'main_category_Apparel', 'main_category_Bags',\n",
       "       'main_category_Brands', 'main_category_Electronics',\n",
       "       'main_category_Gift Cards', 'main_category_Kids',\n",
       "       'main_category_Lifestyle', 'main_category_Limited Supply',\n",
       "       'main_category_Office', 'main_category_Other', 'main_category_Sale',\n",
       "       'continent_Africa', 'continent_Americas', 'continent_Asia',\n",
       "       'continent_Europe', 'continent_Oceania', 'action_1', 'action_2',\n",
       "       'action_3', 'action_4', 'action_5', 'action_6'],\n",
       "      dtype='object')"
      ]
     },
     "execution_count": 13,
     "metadata": {},
     "output_type": "execute_result"
    }
   ],
   "source": [
    "pca_data.columns"
   ]
  },
  {
   "cell_type": "markdown",
   "metadata": {},
   "source": [
    "# **2. PCA**"
   ]
  },
  {
   "cell_type": "markdown",
   "metadata": {},
   "source": [
    "## (a) Perform PCA"
   ]
  },
  {
   "cell_type": "markdown",
   "metadata": {},
   "source": [
    "(i) Check for NA in data"
   ]
  },
  {
   "cell_type": "code",
   "execution_count": 14,
   "metadata": {},
   "outputs": [
    {
     "data": {
      "text/plain": [
       "visitNumber                     0\n",
       "timeOnSite                      0\n",
       "pageviews                       0\n",
       "sessionQuality                  0\n",
       "totals_revenue                  0\n",
       "transactions                    0\n",
       "price                           0\n",
       "impression                      0\n",
       "click                           0\n",
       "month_sin                       0\n",
       "month_cos                       0\n",
       "main_category_Apparel           0\n",
       "main_category_Bags              0\n",
       "main_category_Brands            0\n",
       "main_category_Electronics       0\n",
       "main_category_Gift Cards        0\n",
       "main_category_Kids              0\n",
       "main_category_Lifestyle         0\n",
       "main_category_Limited Supply    0\n",
       "main_category_Office            0\n",
       "main_category_Other             0\n",
       "main_category_Sale              0\n",
       "continent_Africa                0\n",
       "continent_Americas              0\n",
       "continent_Asia                  0\n",
       "continent_Europe                0\n",
       "continent_Oceania               0\n",
       "action_1                        0\n",
       "action_2                        0\n",
       "action_3                        0\n",
       "action_4                        0\n",
       "action_5                        0\n",
       "action_6                        0\n",
       "dtype: int64"
      ]
     },
     "execution_count": 14,
     "metadata": {},
     "output_type": "execute_result"
    }
   ],
   "source": [
    "#pca doesn't work with NA. Check if data is good to go.WindowsError\n",
    "\n",
    "pca_data.isna().sum()"
   ]
  },
  {
   "cell_type": "markdown",
   "metadata": {},
   "source": [
    "(ii) Create PCA pipeline and run accordingly"
   ]
  },
  {
   "cell_type": "code",
   "execution_count": 15,
   "metadata": {},
   "outputs": [
    {
     "name": "stdout",
     "output_type": "stream",
     "text": [
      "PCA Loadings Shape: (5, 33)\n",
      "PCA Loadings: [[ 2.00302327e-01  6.32512239e-01  6.38747030e-01  1.40196636e-01\n",
      "   3.06137616e-01  1.64632143e-01  2.07651372e-02 -3.35530940e-02\n",
      "   5.49221877e-03 -5.23418632e-02 -9.75258630e-03  8.16410278e-03\n",
      "   1.03882941e-03 -4.21771821e-02 -4.00173621e-05  7.67075054e-05\n",
      "   1.01249941e-04  3.57019236e-03  1.76777671e-04  1.33303136e-02\n",
      "   1.09198831e-02  1.31069352e-04 -1.31354826e-03  5.49944700e-02\n",
      "  -1.84688410e-02 -3.22036186e-02 -2.85668004e-03  5.49221877e-03\n",
      "   4.26303591e-03  3.10630235e-03  6.50120235e-04  1.63595149e-02\n",
      "   3.68190183e-03]\n",
      " [ 3.65603261e-01 -1.18741622e-01 -1.08268833e-01 -3.70312375e-01\n",
      "   3.60883121e-01  4.99378970e-03  7.34730703e-01 -5.95135886e-03\n",
      "   2.23224118e-03  6.80948267e-02  1.26585287e-01  9.09379173e-02\n",
      "   2.70764854e-02 -1.31238141e-02  2.11367814e-02  2.06869063e-03\n",
      "  -6.16425643e-05 -1.24046495e-02  1.66457072e-03 -4.88655636e-02\n",
      "  -1.82072332e-02 -6.02421938e-04 -8.74606543e-05  6.10299686e-03\n",
      "  -4.03645329e-03 -1.43443324e-03 -5.51602052e-04  2.23224118e-03\n",
      "   1.31449199e-03 -1.28648085e-03 -3.57553377e-04  4.69809011e-03\n",
      "  -6.49430191e-04]\n",
      " [-7.30768412e-02 -9.91302448e-02 -1.30055455e-01  8.66446833e-01\n",
      "   7.09909516e-02 -1.04149167e-03  4.22320567e-01 -1.79172822e-02\n",
      "   4.51193081e-03 -5.86078824e-02 -1.50682725e-01  6.32301147e-02\n",
      "   1.96444775e-02 -2.06804287e-02  9.50524882e-03  1.25755809e-03\n",
      "  -5.48312019e-05 -7.58456915e-03  1.09087851e-03 -2.90023088e-02\n",
      "  -1.02292655e-02  1.22948569e-03 -4.72415814e-04  3.01802326e-02\n",
      "  -1.32648078e-02 -1.48150586e-02 -1.53403329e-03  4.51193081e-03\n",
      "   2.91670935e-03  9.65192008e-04  1.90109517e-04  7.79717169e-03\n",
      "   1.53616885e-03]\n",
      " [ 7.89719585e-01 -1.56912316e-01 -2.25183767e-01  2.02124881e-01\n",
      "   2.32104072e-01 -3.27711256e-02 -4.39453680e-01  8.80141064e-03\n",
      "  -4.33789387e-03  7.13696865e-03 -8.20945964e-02 -5.58888151e-02\n",
      "  -1.96844935e-02  1.94194249e-02 -1.63027446e-02 -1.29458378e-03\n",
      "  -6.15700856e-05  5.40233769e-03 -1.59024560e-03  2.22489246e-02\n",
      "   1.79953003e-02  3.81206420e-04 -2.18469520e-04  1.03254883e-02\n",
      "  -6.64780919e-03 -2.88851244e-03 -4.72708222e-04 -4.33789387e-03\n",
      "  -3.32445636e-03  4.98344961e-04  4.09268510e-05 -3.01994153e-03\n",
      "   1.34160930e-03]\n",
      " [-4.35627548e-01 -1.91887174e-01 -7.66498163e-02 -1.71197647e-02\n",
      "   8.33138969e-01  9.54841135e-02 -2.36892738e-01 -3.67234945e-03\n",
      "  -3.49919528e-03  5.43574039e-02 -2.33120394e-02 -4.45836128e-02\n",
      "  -1.13831281e-02  2.66991903e-02 -9.40007744e-03 -7.52438927e-04\n",
      "  -5.14105747e-05  2.40407630e-03 -1.22279907e-03  1.49609638e-02\n",
      "   6.66952195e-03 -3.92550597e-05  6.73719488e-04 -2.73975146e-02\n",
      "   8.23353078e-03  1.68651408e-02  1.55607062e-03 -3.49919528e-03\n",
      "  -2.20142167e-03  4.85934838e-04 -1.17869150e-04  5.39323796e-03\n",
      "   3.61166275e-03]]\n"
     ]
    }
   ],
   "source": [
    "# Apply PCA\n",
    "pca = PCA(n_components=5)  # Choose the number of components you want\n",
    "pca_results = pca.fit(pca_data)\n",
    "\n",
    "# Access PCA loadings\n",
    "pca_loadings = pca.components_\n",
    "print(\"PCA Loadings Shape:\", pca_loadings.shape)  # Shape will be (n_components, number of features)\n",
    "print(\"PCA Loadings:\", pca_loadings)"
   ]
  },
  {
   "cell_type": "markdown",
   "metadata": {},
   "source": [
    "(iii) Visualise Data"
   ]
  },
  {
   "cell_type": "code",
   "execution_count": 16,
   "metadata": {},
   "outputs": [
    {
     "data": {
      "image/png": "[encoded data removed]",
      "text/plain": [
       "<Figure size 1000x600 with 1 Axes>"
      ]
     },
     "metadata": {},
     "output_type": "display_data"
    }
   ],
   "source": [
    "# Explained variance plot\n",
    "plt.figure(figsize=(10, 6))\n",
    "plt.plot(range(1, len(pca.explained_variance_ratio_) + 1), pca.explained_variance_ratio_.cumsum(), marker='o', linestyle='--')\n",
    "plt.title('Cumulative Explained Variance by PCA Components')\n",
    "plt.xlabel('Number of Principal Components')\n",
    "plt.ylabel('Cumulative Explained Variance')\n",
    "plt.grid(True)\n",
    "plt.show()"
   ]
  },
  {
   "cell_type": "markdown",
   "metadata": {},
   "source": [
    "- PCA does not seem to be performing well on this dataset since all 5 of our PC only explained ~70% variance of the whole dataset in total\n",
    "- However, it is worth to explore which features in the original dataset contributes to the 5 of our PCs\n",
    "- Identify features that contribute to most correlation to each PC to aid training of k-means clustering model in the later stage\n",
    "- When performing k-means clustering, we can focus on the features identified"
   ]
  },
  {
   "cell_type": "markdown",
   "metadata": {},
   "source": [
    "(iv) Closer look"
   ]
  },
  {
   "cell_type": "code",
   "execution_count": 17,
   "metadata": {},
   "outputs": [
    {
     "name": "stdout",
     "output_type": "stream",
     "text": [
      "Principal Component 1: 23.04% variance explained\n",
      "Principal Component 2: 12.62% variance explained\n",
      "Principal Component 3: 11.87% variance explained\n",
      "Principal Component 4: 11.44% variance explained\n",
      "Principal Component 5: 10.49% variance explained\n"
     ]
    }
   ],
   "source": [
    "# Explained variance by each principal component\n",
    "for i, variance in enumerate(pca.explained_variance_ratio_):\n",
    "    print(f'Principal Component {i+1}: {variance * 100:.2f}% variance explained')"
   ]
  },
  {
   "cell_type": "markdown",
   "metadata": {},
   "source": [
    "This further confirms our observation from the plot above."
   ]
  },
  {
   "cell_type": "code",
   "execution_count": 18,
   "metadata": {},
   "outputs": [
    {
     "name": "stdout",
     "output_type": "stream",
     "text": [
      "     visitNumber  timeOnSite  pageviews  sessionQuality  totals_revenue  \\\n",
      "PC1     0.200302    0.632512   0.638747        0.140197        0.306138   \n",
      "PC2     0.365603   -0.118742  -0.108269       -0.370312        0.360883   \n",
      "PC3    -0.073077   -0.099130  -0.130055        0.866447        0.070991   \n",
      "PC4     0.789720   -0.156912  -0.225184        0.202125        0.232104   \n",
      "PC5    -0.435628   -0.191887  -0.076650       -0.017120        0.833139   \n",
      "\n",
      "     transactions     price  impression     click  month_sin  ...  \\\n",
      "PC1      0.164632  0.020765   -0.033553  0.005492  -0.052342  ...   \n",
      "PC2      0.004994  0.734731   -0.005951  0.002232   0.068095  ...   \n",
      "PC3     -0.001041  0.422321   -0.017917  0.004512  -0.058608  ...   \n",
      "PC4     -0.032771 -0.439454    0.008801 -0.004338   0.007137  ...   \n",
      "PC5      0.095484 -0.236893   -0.003672 -0.003499   0.054357  ...   \n",
      "\n",
      "     continent_Americas  continent_Asia  continent_Europe  continent_Oceania  \\\n",
      "PC1            0.054994       -0.018469         -0.032204          -0.002857   \n",
      "PC2            0.006103       -0.004036         -0.001434          -0.000552   \n",
      "PC3            0.030180       -0.013265         -0.014815          -0.001534   \n",
      "PC4            0.010325       -0.006648         -0.002889          -0.000473   \n",
      "PC5           -0.027398        0.008234          0.016865           0.001556   \n",
      "\n",
      "     action_1  action_2  action_3  action_4  action_5  action_6  \n",
      "PC1  0.005492  0.004263  0.003106  0.000650  0.016360  0.003682  \n",
      "PC2  0.002232  0.001314 -0.001286 -0.000358  0.004698 -0.000649  \n",
      "PC3  0.004512  0.002917  0.000965  0.000190  0.007797  0.001536  \n",
      "PC4 -0.004338 -0.003324  0.000498  0.000041 -0.003020  0.001342  \n",
      "PC5 -0.003499 -0.002201  0.000486 -0.000118  0.005393  0.003612  \n",
      "\n",
      "[5 rows x 33 columns]\n"
     ]
    }
   ],
   "source": [
    "# Example original feature names (33 original features)\n",
    "original_feature_names = pca_data.columns\n",
    "\n",
    "# Create a DataFrame to map PCA loadings to original feature names\n",
    "loadings_df = pd.DataFrame(pca_loadings, columns=original_feature_names, index=[f'PC{i+1}' for i in range(5)])\n",
    "\n",
    "# Display the DataFrame\n",
    "print(loadings_df)"
   ]
  },
  {
   "cell_type": "code",
   "execution_count": 21,
   "metadata": {},
   "outputs": [
    {
     "name": "stdout",
     "output_type": "stream",
     "text": [
      "Coefficient of PC1: 0.20 for feature: visitNumber\n",
      "Coefficient of PC1: 0.63 for feature: timeOnSite\n",
      "Coefficient of PC1: 0.64 for feature: pageviews\n",
      "Coefficient of PC1: 0.14 for feature: sessionQuality\n",
      "Coefficient of PC1: 0.31 for feature: totals_revenue\n",
      "Coefficient of PC1: 0.16 for feature: transactions\n",
      "Coefficient of PC1: 0.02 for feature: price\n",
      "Coefficient of PC1: -0.03 for feature: impression\n",
      "Coefficient of PC1: 0.01 for feature: click\n",
      "Coefficient of PC1: -0.05 for feature: month_sin\n",
      "Coefficient of PC1: -0.01 for feature: month_cos\n",
      "Coefficient of PC1: 0.01 for feature: main_category_Apparel\n",
      "Coefficient of PC1: 0.00 for feature: main_category_Bags\n",
      "Coefficient of PC1: -0.04 for feature: main_category_Brands\n",
      "Coefficient of PC1: -0.00 for feature: main_category_Electronics\n",
      "Coefficient of PC1: 0.00 for feature: main_category_Gift Cards\n",
      "Coefficient of PC1: 0.00 for feature: main_category_Kids\n",
      "Coefficient of PC1: 0.00 for feature: main_category_Lifestyle\n",
      "Coefficient of PC1: 0.00 for feature: main_category_Limited Supply\n",
      "Coefficient of PC1: 0.01 for feature: main_category_Office\n",
      "Coefficient of PC1: 0.01 for feature: main_category_Other\n",
      "Coefficient of PC1: 0.00 for feature: main_category_Sale\n",
      "Coefficient of PC1: -0.00 for feature: continent_Africa\n",
      "Coefficient of PC1: 0.05 for feature: continent_Americas\n",
      "Coefficient of PC1: -0.02 for feature: continent_Asia\n",
      "Coefficient of PC1: -0.03 for feature: continent_Europe\n",
      "Coefficient of PC1: -0.00 for feature: continent_Oceania\n",
      "Coefficient of PC1: 0.01 for feature: action_1\n",
      "Coefficient of PC1: 0.00 for feature: action_2\n",
      "Coefficient of PC1: 0.00 for feature: action_3\n",
      "Coefficient of PC1: 0.00 for feature: action_4\n",
      "Coefficient of PC1: 0.02 for feature: action_5\n",
      "Coefficient of PC1: 0.00 for feature: action_6\n",
      "Coefficient of PC2: 0.37 for feature: visitNumber\n",
      "Coefficient of PC2: -0.12 for feature: timeOnSite\n",
      "Coefficient of PC2: -0.11 for feature: pageviews\n",
      "Coefficient of PC2: -0.37 for feature: sessionQuality\n",
      "Coefficient of PC2: 0.36 for feature: totals_revenue\n",
      "Coefficient of PC2: 0.00 for feature: transactions\n",
      "Coefficient of PC2: 0.73 for feature: price\n",
      "Coefficient of PC2: -0.01 for feature: impression\n",
      "Coefficient of PC2: 0.00 for feature: click\n",
      "Coefficient of PC2: 0.07 for feature: month_sin\n",
      "Coefficient of PC2: 0.13 for feature: month_cos\n",
      "Coefficient of PC2: 0.09 for feature: main_category_Apparel\n",
      "Coefficient of PC2: 0.03 for feature: main_category_Bags\n",
      "Coefficient of PC2: -0.01 for feature: main_category_Brands\n",
      "Coefficient of PC2: 0.02 for feature: main_category_Electronics\n",
      "Coefficient of PC2: 0.00 for feature: main_category_Gift Cards\n",
      "Coefficient of PC2: -0.00 for feature: main_category_Kids\n",
      "Coefficient of PC2: -0.01 for feature: main_category_Lifestyle\n",
      "Coefficient of PC2: 0.00 for feature: main_category_Limited Supply\n",
      "Coefficient of PC2: -0.05 for feature: main_category_Office\n",
      "Coefficient of PC2: -0.02 for feature: main_category_Other\n",
      "Coefficient of PC2: -0.00 for feature: main_category_Sale\n",
      "Coefficient of PC2: -0.00 for feature: continent_Africa\n",
      "Coefficient of PC2: 0.01 for feature: continent_Americas\n",
      "Coefficient of PC2: -0.00 for feature: continent_Asia\n",
      "Coefficient of PC2: -0.00 for feature: continent_Europe\n",
      "Coefficient of PC2: -0.00 for feature: continent_Oceania\n",
      "Coefficient of PC2: 0.00 for feature: action_1\n",
      "Coefficient of PC2: 0.00 for feature: action_2\n",
      "Coefficient of PC2: -0.00 for feature: action_3\n",
      "Coefficient of PC2: -0.00 for feature: action_4\n",
      "Coefficient of PC2: 0.00 for feature: action_5\n",
      "Coefficient of PC2: -0.00 for feature: action_6\n",
      "Coefficient of PC3: -0.07 for feature: visitNumber\n",
      "Coefficient of PC3: -0.10 for feature: timeOnSite\n",
      "Coefficient of PC3: -0.13 for feature: pageviews\n",
      "Coefficient of PC3: 0.87 for feature: sessionQuality\n",
      "Coefficient of PC3: 0.07 for feature: totals_revenue\n",
      "Coefficient of PC3: -0.00 for feature: transactions\n",
      "Coefficient of PC3: 0.42 for feature: price\n",
      "Coefficient of PC3: -0.02 for feature: impression\n",
      "Coefficient of PC3: 0.00 for feature: click\n",
      "Coefficient of PC3: -0.06 for feature: month_sin\n",
      "Coefficient of PC3: -0.15 for feature: month_cos\n",
      "Coefficient of PC3: 0.06 for feature: main_category_Apparel\n",
      "Coefficient of PC3: 0.02 for feature: main_category_Bags\n",
      "Coefficient of PC3: -0.02 for feature: main_category_Brands\n",
      "Coefficient of PC3: 0.01 for feature: main_category_Electronics\n",
      "Coefficient of PC3: 0.00 for feature: main_category_Gift Cards\n",
      "Coefficient of PC3: -0.00 for feature: main_category_Kids\n",
      "Coefficient of PC3: -0.01 for feature: main_category_Lifestyle\n",
      "Coefficient of PC3: 0.00 for feature: main_category_Limited Supply\n",
      "Coefficient of PC3: -0.03 for feature: main_category_Office\n",
      "Coefficient of PC3: -0.01 for feature: main_category_Other\n",
      "Coefficient of PC3: 0.00 for feature: main_category_Sale\n",
      "Coefficient of PC3: -0.00 for feature: continent_Africa\n",
      "Coefficient of PC3: 0.03 for feature: continent_Americas\n",
      "Coefficient of PC3: -0.01 for feature: continent_Asia\n",
      "Coefficient of PC3: -0.01 for feature: continent_Europe\n",
      "Coefficient of PC3: -0.00 for feature: continent_Oceania\n",
      "Coefficient of PC3: 0.00 for feature: action_1\n",
      "Coefficient of PC3: 0.00 for feature: action_2\n",
      "Coefficient of PC3: 0.00 for feature: action_3\n",
      "Coefficient of PC3: 0.00 for feature: action_4\n",
      "Coefficient of PC3: 0.01 for feature: action_5\n",
      "Coefficient of PC3: 0.00 for feature: action_6\n",
      "Coefficient of PC4: 0.79 for feature: visitNumber\n",
      "Coefficient of PC4: -0.16 for feature: timeOnSite\n",
      "Coefficient of PC4: -0.23 for feature: pageviews\n",
      "Coefficient of PC4: 0.20 for feature: sessionQuality\n",
      "Coefficient of PC4: 0.23 for feature: totals_revenue\n",
      "Coefficient of PC4: -0.03 for feature: transactions\n",
      "Coefficient of PC4: -0.44 for feature: price\n",
      "Coefficient of PC4: 0.01 for feature: impression\n",
      "Coefficient of PC4: -0.00 for feature: click\n",
      "Coefficient of PC4: 0.01 for feature: month_sin\n",
      "Coefficient of PC4: -0.08 for feature: month_cos\n",
      "Coefficient of PC4: -0.06 for feature: main_category_Apparel\n",
      "Coefficient of PC4: -0.02 for feature: main_category_Bags\n",
      "Coefficient of PC4: 0.02 for feature: main_category_Brands\n",
      "Coefficient of PC4: -0.02 for feature: main_category_Electronics\n",
      "Coefficient of PC4: -0.00 for feature: main_category_Gift Cards\n",
      "Coefficient of PC4: -0.00 for feature: main_category_Kids\n",
      "Coefficient of PC4: 0.01 for feature: main_category_Lifestyle\n",
      "Coefficient of PC4: -0.00 for feature: main_category_Limited Supply\n",
      "Coefficient of PC4: 0.02 for feature: main_category_Office\n",
      "Coefficient of PC4: 0.02 for feature: main_category_Other\n",
      "Coefficient of PC4: 0.00 for feature: main_category_Sale\n",
      "Coefficient of PC4: -0.00 for feature: continent_Africa\n",
      "Coefficient of PC4: 0.01 for feature: continent_Americas\n",
      "Coefficient of PC4: -0.01 for feature: continent_Asia\n",
      "Coefficient of PC4: -0.00 for feature: continent_Europe\n",
      "Coefficient of PC4: -0.00 for feature: continent_Oceania\n",
      "Coefficient of PC4: -0.00 for feature: action_1\n",
      "Coefficient of PC4: -0.00 for feature: action_2\n",
      "Coefficient of PC4: 0.00 for feature: action_3\n",
      "Coefficient of PC4: 0.00 for feature: action_4\n",
      "Coefficient of PC4: -0.00 for feature: action_5\n",
      "Coefficient of PC4: 0.00 for feature: action_6\n",
      "Coefficient of PC5: -0.44 for feature: visitNumber\n",
      "Coefficient of PC5: -0.19 for feature: timeOnSite\n",
      "Coefficient of PC5: -0.08 for feature: pageviews\n",
      "Coefficient of PC5: -0.02 for feature: sessionQuality\n",
      "Coefficient of PC5: 0.83 for feature: totals_revenue\n",
      "Coefficient of PC5: 0.10 for feature: transactions\n",
      "Coefficient of PC5: -0.24 for feature: price\n",
      "Coefficient of PC5: -0.00 for feature: impression\n",
      "Coefficient of PC5: -0.00 for feature: click\n",
      "Coefficient of PC5: 0.05 for feature: month_sin\n",
      "Coefficient of PC5: -0.02 for feature: month_cos\n",
      "Coefficient of PC5: -0.04 for feature: main_category_Apparel\n",
      "Coefficient of PC5: -0.01 for feature: main_category_Bags\n",
      "Coefficient of PC5: 0.03 for feature: main_category_Brands\n",
      "Coefficient of PC5: -0.01 for feature: main_category_Electronics\n",
      "Coefficient of PC5: -0.00 for feature: main_category_Gift Cards\n",
      "Coefficient of PC5: -0.00 for feature: main_category_Kids\n",
      "Coefficient of PC5: 0.00 for feature: main_category_Lifestyle\n",
      "Coefficient of PC5: -0.00 for feature: main_category_Limited Supply\n",
      "Coefficient of PC5: 0.01 for feature: main_category_Office\n",
      "Coefficient of PC5: 0.01 for feature: main_category_Other\n",
      "Coefficient of PC5: -0.00 for feature: main_category_Sale\n",
      "Coefficient of PC5: 0.00 for feature: continent_Africa\n",
      "Coefficient of PC5: -0.03 for feature: continent_Americas\n",
      "Coefficient of PC5: 0.01 for feature: continent_Asia\n",
      "Coefficient of PC5: 0.02 for feature: continent_Europe\n",
      "Coefficient of PC5: 0.00 for feature: continent_Oceania\n",
      "Coefficient of PC5: -0.00 for feature: action_1\n",
      "Coefficient of PC5: -0.00 for feature: action_2\n",
      "Coefficient of PC5: 0.00 for feature: action_3\n",
      "Coefficient of PC5: -0.00 for feature: action_4\n",
      "Coefficient of PC5: 0.01 for feature: action_5\n",
      "Coefficient of PC5: 0.00 for feature: action_6\n"
     ]
    }
   ],
   "source": [
    "# Iterate over the first 5 principal components\n",
    "for i in range(5):  # PC1 to PC5\n",
    "    for j in range(len(col_names)):  # Iterate over features\n",
    "        # Use .iloc to access the loading value for the specific PC and feature\n",
    "        coefficient = loadings_df.iloc[i, j]  # Get the coefficient for PC(i+1)\n",
    "        print(f'Coefficient of PC{i + 1}: {coefficient:.2f} for feature: {col_names[j]}')"
   ]
  },
  {
   "cell_type": "markdown",
   "metadata": {},
   "source": [
    "(v) Inspection\n",
    "\n",
    "Report features that contribute a high correlation to each PC. Threshold is coeff that is not in (-0.2,0.2) "
   ]
  },
  {
   "cell_type": "markdown",
   "metadata": {},
   "source": [
    "**PC1:**\n",
    "\n",
    "1. 0.20 for feature: visitNumber\n",
    "\n",
    "2. 0.63 for feature: timeOnSite\n",
    "\n",
    "3. 0.64 for feature: pageviews"
   ]
  },
  {
   "cell_type": "markdown",
   "metadata": {},
   "source": [
    "**PC2:**\n",
    "\n",
    "1. 0.37 for feature: visitNumber\n",
    "\n",
    "2. -0.37 for feature: sessionQuality\n",
    "\n",
    "3. 0.36 for feature: totals_revenue\n",
    "\n",
    "4. 0.73 for feature: price\n",
    "\n",
    "*Note: Session Quality seems to be contrasting visitNumber or totals_revenue*"
   ]
  },
  {
   "cell_type": "markdown",
   "metadata": {},
   "source": [
    "**PC3:**\n",
    "\n",
    "1. 0.87 for feature: sessionQuality\n",
    "\n",
    "2. 0.42 for feature: price"
   ]
  },
  {
   "cell_type": "markdown",
   "metadata": {},
   "source": [
    "**PC4:**\n",
    "\n",
    "1. 0.79 for feature: visitNumber\n",
    "\n",
    "2. -0.23 for feature: pageviews\n",
    "\n",
    "3. 0.20 for feature: sessionQuality\n",
    "\n",
    "4. 0.23 for feature: totals_revenue\n",
    "\n",
    "5. -0.44 for feature: price\n",
    "\n",
    "*Note: pageviews seems to be contrasting totals_revenue*"
   ]
  },
  {
   "cell_type": "markdown",
   "metadata": {},
   "source": [
    "**PC5:**\n",
    "\n",
    "1. -0.44 for feature: visitNumber\n",
    "\n",
    "2. 0.83 for feature: totals_revenue\n",
    "\n",
    "3. -0.24 for feature: price\n",
    "\n",
    "*Note: visitNumber and price seems to contrast totals_revenue*"
   ]
  },
  {
   "cell_type": "markdown",
   "metadata": {},
   "source": [
    "**Next Steps:**\n",
    "\n",
    "In subsequent analysis, we will pay more attention to the features with larger coeff magnitude in each of the PCs, with decreasing priority from PC1 to PC5"
   ]
  },
  {
   "cell_type": "markdown",
   "metadata": {},
   "source": []
  }
 ],
 "metadata": {
  "kernelspec": {
   "display_name": "Python 3",
   "language": "python",
   "name": "python3"
  },
  "language_info": {
   "codemirror_mode": {
    "name": "ipython",
    "version": 3
   },
   "file_extension": ".py",
   "mimetype": "text/x-python",
   "name": "python",
   "nbconvert_exporter": "python",
   "pygments_lexer": "ipython3",
   "version": "3.12.5"
  }
 },
 "nbformat": 4,
 "nbformat_minor": 2
}
